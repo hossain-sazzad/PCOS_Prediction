{
  "cells": [
    {
      "cell_type": "code",
      "execution_count": 69,
      "id": "c7a092f5",
      "metadata": {
        "id": "c7a092f5"
      },
      "outputs": [],
      "source": [
        "import warnings\n",
        "warnings.filterwarnings(\"ignore\")"
      ]
    },
    {
      "cell_type": "code",
      "execution_count": 70,
      "id": "ecb9edcb",
      "metadata": {
        "id": "ecb9edcb"
      },
      "outputs": [],
      "source": [
        "import pandas as pd \n",
        "import numpy as np\n",
        "import matplotlib.pyplot as plt\n",
        "import seaborn as sns\n",
        "%matplotlib inline"
      ]
    },
    {
      "cell_type": "code",
      "execution_count": 71,
      "id": "c729b0f1",
      "metadata": {
        "id": "c729b0f1"
      },
      "outputs": [],
      "source": [
        "data_withoutinfertility = pd.read_excel(r'/content/PCOS_data_without_infertility.xlsx',sheet_name='Full_new')\n",
        "data_infertility = pd.read_csv(r'/content/PCOS_infertility.csv')"
      ]
    },
    {
      "cell_type": "code",
      "execution_count": 72,
      "id": "9624f5f4",
      "metadata": {
        "colab": {
          "base_uri": "https://localhost:8080/",
          "height": 369
        },
        "id": "9624f5f4",
        "outputId": "70438e26-182e-48ce-d7b7-88848b3c4ea1"
      },
      "outputs": [
        {
          "output_type": "execute_result",
          "data": {
            "text/plain": [
              "   Sl. No  Patient File No.  PCOS (Y/N)   Age (yrs)  Weight (Kg)  Height(Cm)   \\\n",
              "0     1.0               1.0         0.0        28.0         44.6        152.0   \n",
              "1     2.0               2.0         0.0        36.0         65.0        161.5   \n",
              "2     3.0               3.0         1.0        33.0         68.8        165.0   \n",
              "3     4.0               4.0         0.0        37.0         65.0        148.0   \n",
              "4     5.0               5.0         0.0        25.0         52.0        161.0   \n",
              "\n",
              "         BMI  Blood Group  Pulse rate(bpm)   RR (breaths/min)  ...  \\\n",
              "0  19.300000         15.0              78.0              22.0  ...   \n",
              "1  24.921163         15.0              74.0              20.0  ...   \n",
              "2  25.270891         11.0              72.0              18.0  ...   \n",
              "3  29.674945         13.0              72.0              20.0  ...   \n",
              "4  20.060954         11.0              72.0              18.0  ...   \n",
              "\n",
              "   Fast food (Y/N)  Reg.Exercise(Y/N)  BP _Systolic (mmHg)  \\\n",
              "0              1.0                0.0                110.0   \n",
              "1              0.0                0.0                120.0   \n",
              "2              1.0                0.0                120.0   \n",
              "3              0.0                0.0                120.0   \n",
              "4              0.0                0.0                120.0   \n",
              "\n",
              "   BP _Diastolic (mmHg)  Follicle No. (L)  Follicle No. (R)  \\\n",
              "0                  80.0               3.0               3.0   \n",
              "1                  70.0               3.0               5.0   \n",
              "2                  80.0              13.0              15.0   \n",
              "3                  70.0               2.0               2.0   \n",
              "4                  80.0               3.0               4.0   \n",
              "\n",
              "   Avg. F size (L) (mm) Avg. F size (R) (mm)  Endometrium (mm)  Unnamed: 44  \n",
              "0                  18.0                 18.0               8.5          NaN  \n",
              "1                  15.0                 14.0               3.7          NaN  \n",
              "2                  18.0                 20.0              10.0          NaN  \n",
              "3                  15.0                 14.0               7.5          NaN  \n",
              "4                  16.0                 14.0               7.0          NaN  \n",
              "\n",
              "[5 rows x 45 columns]"
            ],
            "text/html": [
              "\n",
              "  <div id=\"df-c7f6cf1f-0182-4b0b-8451-10dbcd8e72c3\">\n",
              "    <div class=\"colab-df-container\">\n",
              "      <div>\n",
              "<style scoped>\n",
              "    .dataframe tbody tr th:only-of-type {\n",
              "        vertical-align: middle;\n",
              "    }\n",
              "\n",
              "    .dataframe tbody tr th {\n",
              "        vertical-align: top;\n",
              "    }\n",
              "\n",
              "    .dataframe thead th {\n",
              "        text-align: right;\n",
              "    }\n",
              "</style>\n",
              "<table border=\"1\" class=\"dataframe\">\n",
              "  <thead>\n",
              "    <tr style=\"text-align: right;\">\n",
              "      <th></th>\n",
              "      <th>Sl. No</th>\n",
              "      <th>Patient File No.</th>\n",
              "      <th>PCOS (Y/N)</th>\n",
              "      <th>Age (yrs)</th>\n",
              "      <th>Weight (Kg)</th>\n",
              "      <th>Height(Cm)</th>\n",
              "      <th>BMI</th>\n",
              "      <th>Blood Group</th>\n",
              "      <th>Pulse rate(bpm)</th>\n",
              "      <th>RR (breaths/min)</th>\n",
              "      <th>...</th>\n",
              "      <th>Fast food (Y/N)</th>\n",
              "      <th>Reg.Exercise(Y/N)</th>\n",
              "      <th>BP _Systolic (mmHg)</th>\n",
              "      <th>BP _Diastolic (mmHg)</th>\n",
              "      <th>Follicle No. (L)</th>\n",
              "      <th>Follicle No. (R)</th>\n",
              "      <th>Avg. F size (L) (mm)</th>\n",
              "      <th>Avg. F size (R) (mm)</th>\n",
              "      <th>Endometrium (mm)</th>\n",
              "      <th>Unnamed: 44</th>\n",
              "    </tr>\n",
              "  </thead>\n",
              "  <tbody>\n",
              "    <tr>\n",
              "      <th>0</th>\n",
              "      <td>1.0</td>\n",
              "      <td>1.0</td>\n",
              "      <td>0.0</td>\n",
              "      <td>28.0</td>\n",
              "      <td>44.6</td>\n",
              "      <td>152.0</td>\n",
              "      <td>19.300000</td>\n",
              "      <td>15.0</td>\n",
              "      <td>78.0</td>\n",
              "      <td>22.0</td>\n",
              "      <td>...</td>\n",
              "      <td>1.0</td>\n",
              "      <td>0.0</td>\n",
              "      <td>110.0</td>\n",
              "      <td>80.0</td>\n",
              "      <td>3.0</td>\n",
              "      <td>3.0</td>\n",
              "      <td>18.0</td>\n",
              "      <td>18.0</td>\n",
              "      <td>8.5</td>\n",
              "      <td>NaN</td>\n",
              "    </tr>\n",
              "    <tr>\n",
              "      <th>1</th>\n",
              "      <td>2.0</td>\n",
              "      <td>2.0</td>\n",
              "      <td>0.0</td>\n",
              "      <td>36.0</td>\n",
              "      <td>65.0</td>\n",
              "      <td>161.5</td>\n",
              "      <td>24.921163</td>\n",
              "      <td>15.0</td>\n",
              "      <td>74.0</td>\n",
              "      <td>20.0</td>\n",
              "      <td>...</td>\n",
              "      <td>0.0</td>\n",
              "      <td>0.0</td>\n",
              "      <td>120.0</td>\n",
              "      <td>70.0</td>\n",
              "      <td>3.0</td>\n",
              "      <td>5.0</td>\n",
              "      <td>15.0</td>\n",
              "      <td>14.0</td>\n",
              "      <td>3.7</td>\n",
              "      <td>NaN</td>\n",
              "    </tr>\n",
              "    <tr>\n",
              "      <th>2</th>\n",
              "      <td>3.0</td>\n",
              "      <td>3.0</td>\n",
              "      <td>1.0</td>\n",
              "      <td>33.0</td>\n",
              "      <td>68.8</td>\n",
              "      <td>165.0</td>\n",
              "      <td>25.270891</td>\n",
              "      <td>11.0</td>\n",
              "      <td>72.0</td>\n",
              "      <td>18.0</td>\n",
              "      <td>...</td>\n",
              "      <td>1.0</td>\n",
              "      <td>0.0</td>\n",
              "      <td>120.0</td>\n",
              "      <td>80.0</td>\n",
              "      <td>13.0</td>\n",
              "      <td>15.0</td>\n",
              "      <td>18.0</td>\n",
              "      <td>20.0</td>\n",
              "      <td>10.0</td>\n",
              "      <td>NaN</td>\n",
              "    </tr>\n",
              "    <tr>\n",
              "      <th>3</th>\n",
              "      <td>4.0</td>\n",
              "      <td>4.0</td>\n",
              "      <td>0.0</td>\n",
              "      <td>37.0</td>\n",
              "      <td>65.0</td>\n",
              "      <td>148.0</td>\n",
              "      <td>29.674945</td>\n",
              "      <td>13.0</td>\n",
              "      <td>72.0</td>\n",
              "      <td>20.0</td>\n",
              "      <td>...</td>\n",
              "      <td>0.0</td>\n",
              "      <td>0.0</td>\n",
              "      <td>120.0</td>\n",
              "      <td>70.0</td>\n",
              "      <td>2.0</td>\n",
              "      <td>2.0</td>\n",
              "      <td>15.0</td>\n",
              "      <td>14.0</td>\n",
              "      <td>7.5</td>\n",
              "      <td>NaN</td>\n",
              "    </tr>\n",
              "    <tr>\n",
              "      <th>4</th>\n",
              "      <td>5.0</td>\n",
              "      <td>5.0</td>\n",
              "      <td>0.0</td>\n",
              "      <td>25.0</td>\n",
              "      <td>52.0</td>\n",
              "      <td>161.0</td>\n",
              "      <td>20.060954</td>\n",
              "      <td>11.0</td>\n",
              "      <td>72.0</td>\n",
              "      <td>18.0</td>\n",
              "      <td>...</td>\n",
              "      <td>0.0</td>\n",
              "      <td>0.0</td>\n",
              "      <td>120.0</td>\n",
              "      <td>80.0</td>\n",
              "      <td>3.0</td>\n",
              "      <td>4.0</td>\n",
              "      <td>16.0</td>\n",
              "      <td>14.0</td>\n",
              "      <td>7.0</td>\n",
              "      <td>NaN</td>\n",
              "    </tr>\n",
              "  </tbody>\n",
              "</table>\n",
              "<p>5 rows × 45 columns</p>\n",
              "</div>\n",
              "      <button class=\"colab-df-convert\" onclick=\"convertToInteractive('df-c7f6cf1f-0182-4b0b-8451-10dbcd8e72c3')\"\n",
              "              title=\"Convert this dataframe to an interactive table.\"\n",
              "              style=\"display:none;\">\n",
              "        \n",
              "  <svg xmlns=\"http://www.w3.org/2000/svg\" height=\"24px\"viewBox=\"0 0 24 24\"\n",
              "       width=\"24px\">\n",
              "    <path d=\"M0 0h24v24H0V0z\" fill=\"none\"/>\n",
              "    <path d=\"M18.56 5.44l.94 2.06.94-2.06 2.06-.94-2.06-.94-.94-2.06-.94 2.06-2.06.94zm-11 1L8.5 8.5l.94-2.06 2.06-.94-2.06-.94L8.5 2.5l-.94 2.06-2.06.94zm10 10l.94 2.06.94-2.06 2.06-.94-2.06-.94-.94-2.06-.94 2.06-2.06.94z\"/><path d=\"M17.41 7.96l-1.37-1.37c-.4-.4-.92-.59-1.43-.59-.52 0-1.04.2-1.43.59L10.3 9.45l-7.72 7.72c-.78.78-.78 2.05 0 2.83L4 21.41c.39.39.9.59 1.41.59.51 0 1.02-.2 1.41-.59l7.78-7.78 2.81-2.81c.8-.78.8-2.07 0-2.86zM5.41 20L4 18.59l7.72-7.72 1.47 1.35L5.41 20z\"/>\n",
              "  </svg>\n",
              "      </button>\n",
              "      \n",
              "  <style>\n",
              "    .colab-df-container {\n",
              "      display:flex;\n",
              "      flex-wrap:wrap;\n",
              "      gap: 12px;\n",
              "    }\n",
              "\n",
              "    .colab-df-convert {\n",
              "      background-color: #E8F0FE;\n",
              "      border: none;\n",
              "      border-radius: 50%;\n",
              "      cursor: pointer;\n",
              "      display: none;\n",
              "      fill: #1967D2;\n",
              "      height: 32px;\n",
              "      padding: 0 0 0 0;\n",
              "      width: 32px;\n",
              "    }\n",
              "\n",
              "    .colab-df-convert:hover {\n",
              "      background-color: #E2EBFA;\n",
              "      box-shadow: 0px 1px 2px rgba(60, 64, 67, 0.3), 0px 1px 3px 1px rgba(60, 64, 67, 0.15);\n",
              "      fill: #174EA6;\n",
              "    }\n",
              "\n",
              "    [theme=dark] .colab-df-convert {\n",
              "      background-color: #3B4455;\n",
              "      fill: #D2E3FC;\n",
              "    }\n",
              "\n",
              "    [theme=dark] .colab-df-convert:hover {\n",
              "      background-color: #434B5C;\n",
              "      box-shadow: 0px 1px 3px 1px rgba(0, 0, 0, 0.15);\n",
              "      filter: drop-shadow(0px 1px 2px rgba(0, 0, 0, 0.3));\n",
              "      fill: #FFFFFF;\n",
              "    }\n",
              "  </style>\n",
              "\n",
              "      <script>\n",
              "        const buttonEl =\n",
              "          document.querySelector('#df-c7f6cf1f-0182-4b0b-8451-10dbcd8e72c3 button.colab-df-convert');\n",
              "        buttonEl.style.display =\n",
              "          google.colab.kernel.accessAllowed ? 'block' : 'none';\n",
              "\n",
              "        async function convertToInteractive(key) {\n",
              "          const element = document.querySelector('#df-c7f6cf1f-0182-4b0b-8451-10dbcd8e72c3');\n",
              "          const dataTable =\n",
              "            await google.colab.kernel.invokeFunction('convertToInteractive',\n",
              "                                                     [key], {});\n",
              "          if (!dataTable) return;\n",
              "\n",
              "          const docLinkHtml = 'Like what you see? Visit the ' +\n",
              "            '<a target=\"_blank\" href=https://colab.research.google.com/notebooks/data_table.ipynb>data table notebook</a>'\n",
              "            + ' to learn more about interactive tables.';\n",
              "          element.innerHTML = '';\n",
              "          dataTable['output_type'] = 'display_data';\n",
              "          await google.colab.output.renderOutput(dataTable, element);\n",
              "          const docLink = document.createElement('div');\n",
              "          docLink.innerHTML = docLinkHtml;\n",
              "          element.appendChild(docLink);\n",
              "        }\n",
              "      </script>\n",
              "    </div>\n",
              "  </div>\n",
              "  "
            ]
          },
          "metadata": {},
          "execution_count": 72
        }
      ],
      "source": [
        "data_withoutinfertility.head()\n",
        "\n",
        "#data_infertility.head()"
      ]
    },
    {
      "cell_type": "code",
      "execution_count": 73,
      "id": "b739e53c",
      "metadata": {
        "colab": {
          "base_uri": "https://localhost:8080/",
          "height": 206
        },
        "id": "b739e53c",
        "outputId": "bc433241-a309-4eda-cb60-ebb71c43110f"
      },
      "outputs": [
        {
          "output_type": "execute_result",
          "data": {
            "text/plain": [
              "   Sl. No  Patient File No.  PCOS (Y/N)    I   beta-HCG(mIU/mL)  \\\n",
              "0       1             10001           0                    1.99   \n",
              "1       2             10002           0                   60.80   \n",
              "2       3             10003           1                  494.08   \n",
              "3       4             10004           0                    1.99   \n",
              "4       5             10005           0                  801.45   \n",
              "\n",
              "   II    beta-HCG(mIU/mL) AMH(ng/mL)  \n",
              "0                    1.99       2.07  \n",
              "1                    1.99       1.53  \n",
              "2                  494.08       6.63  \n",
              "3                    1.99       1.22  \n",
              "4                  801.45       2.26  "
            ],
            "text/html": [
              "\n",
              "  <div id=\"df-fafecf8c-9e65-4a50-871d-020e2e0113da\">\n",
              "    <div class=\"colab-df-container\">\n",
              "      <div>\n",
              "<style scoped>\n",
              "    .dataframe tbody tr th:only-of-type {\n",
              "        vertical-align: middle;\n",
              "    }\n",
              "\n",
              "    .dataframe tbody tr th {\n",
              "        vertical-align: top;\n",
              "    }\n",
              "\n",
              "    .dataframe thead th {\n",
              "        text-align: right;\n",
              "    }\n",
              "</style>\n",
              "<table border=\"1\" class=\"dataframe\">\n",
              "  <thead>\n",
              "    <tr style=\"text-align: right;\">\n",
              "      <th></th>\n",
              "      <th>Sl. No</th>\n",
              "      <th>Patient File No.</th>\n",
              "      <th>PCOS (Y/N)</th>\n",
              "      <th>I   beta-HCG(mIU/mL)</th>\n",
              "      <th>II    beta-HCG(mIU/mL)</th>\n",
              "      <th>AMH(ng/mL)</th>\n",
              "    </tr>\n",
              "  </thead>\n",
              "  <tbody>\n",
              "    <tr>\n",
              "      <th>0</th>\n",
              "      <td>1</td>\n",
              "      <td>10001</td>\n",
              "      <td>0</td>\n",
              "      <td>1.99</td>\n",
              "      <td>1.99</td>\n",
              "      <td>2.07</td>\n",
              "    </tr>\n",
              "    <tr>\n",
              "      <th>1</th>\n",
              "      <td>2</td>\n",
              "      <td>10002</td>\n",
              "      <td>0</td>\n",
              "      <td>60.80</td>\n",
              "      <td>1.99</td>\n",
              "      <td>1.53</td>\n",
              "    </tr>\n",
              "    <tr>\n",
              "      <th>2</th>\n",
              "      <td>3</td>\n",
              "      <td>10003</td>\n",
              "      <td>1</td>\n",
              "      <td>494.08</td>\n",
              "      <td>494.08</td>\n",
              "      <td>6.63</td>\n",
              "    </tr>\n",
              "    <tr>\n",
              "      <th>3</th>\n",
              "      <td>4</td>\n",
              "      <td>10004</td>\n",
              "      <td>0</td>\n",
              "      <td>1.99</td>\n",
              "      <td>1.99</td>\n",
              "      <td>1.22</td>\n",
              "    </tr>\n",
              "    <tr>\n",
              "      <th>4</th>\n",
              "      <td>5</td>\n",
              "      <td>10005</td>\n",
              "      <td>0</td>\n",
              "      <td>801.45</td>\n",
              "      <td>801.45</td>\n",
              "      <td>2.26</td>\n",
              "    </tr>\n",
              "  </tbody>\n",
              "</table>\n",
              "</div>\n",
              "      <button class=\"colab-df-convert\" onclick=\"convertToInteractive('df-fafecf8c-9e65-4a50-871d-020e2e0113da')\"\n",
              "              title=\"Convert this dataframe to an interactive table.\"\n",
              "              style=\"display:none;\">\n",
              "        \n",
              "  <svg xmlns=\"http://www.w3.org/2000/svg\" height=\"24px\"viewBox=\"0 0 24 24\"\n",
              "       width=\"24px\">\n",
              "    <path d=\"M0 0h24v24H0V0z\" fill=\"none\"/>\n",
              "    <path d=\"M18.56 5.44l.94 2.06.94-2.06 2.06-.94-2.06-.94-.94-2.06-.94 2.06-2.06.94zm-11 1L8.5 8.5l.94-2.06 2.06-.94-2.06-.94L8.5 2.5l-.94 2.06-2.06.94zm10 10l.94 2.06.94-2.06 2.06-.94-2.06-.94-.94-2.06-.94 2.06-2.06.94z\"/><path d=\"M17.41 7.96l-1.37-1.37c-.4-.4-.92-.59-1.43-.59-.52 0-1.04.2-1.43.59L10.3 9.45l-7.72 7.72c-.78.78-.78 2.05 0 2.83L4 21.41c.39.39.9.59 1.41.59.51 0 1.02-.2 1.41-.59l7.78-7.78 2.81-2.81c.8-.78.8-2.07 0-2.86zM5.41 20L4 18.59l7.72-7.72 1.47 1.35L5.41 20z\"/>\n",
              "  </svg>\n",
              "      </button>\n",
              "      \n",
              "  <style>\n",
              "    .colab-df-container {\n",
              "      display:flex;\n",
              "      flex-wrap:wrap;\n",
              "      gap: 12px;\n",
              "    }\n",
              "\n",
              "    .colab-df-convert {\n",
              "      background-color: #E8F0FE;\n",
              "      border: none;\n",
              "      border-radius: 50%;\n",
              "      cursor: pointer;\n",
              "      display: none;\n",
              "      fill: #1967D2;\n",
              "      height: 32px;\n",
              "      padding: 0 0 0 0;\n",
              "      width: 32px;\n",
              "    }\n",
              "\n",
              "    .colab-df-convert:hover {\n",
              "      background-color: #E2EBFA;\n",
              "      box-shadow: 0px 1px 2px rgba(60, 64, 67, 0.3), 0px 1px 3px 1px rgba(60, 64, 67, 0.15);\n",
              "      fill: #174EA6;\n",
              "    }\n",
              "\n",
              "    [theme=dark] .colab-df-convert {\n",
              "      background-color: #3B4455;\n",
              "      fill: #D2E3FC;\n",
              "    }\n",
              "\n",
              "    [theme=dark] .colab-df-convert:hover {\n",
              "      background-color: #434B5C;\n",
              "      box-shadow: 0px 1px 3px 1px rgba(0, 0, 0, 0.15);\n",
              "      filter: drop-shadow(0px 1px 2px rgba(0, 0, 0, 0.3));\n",
              "      fill: #FFFFFF;\n",
              "    }\n",
              "  </style>\n",
              "\n",
              "      <script>\n",
              "        const buttonEl =\n",
              "          document.querySelector('#df-fafecf8c-9e65-4a50-871d-020e2e0113da button.colab-df-convert');\n",
              "        buttonEl.style.display =\n",
              "          google.colab.kernel.accessAllowed ? 'block' : 'none';\n",
              "\n",
              "        async function convertToInteractive(key) {\n",
              "          const element = document.querySelector('#df-fafecf8c-9e65-4a50-871d-020e2e0113da');\n",
              "          const dataTable =\n",
              "            await google.colab.kernel.invokeFunction('convertToInteractive',\n",
              "                                                     [key], {});\n",
              "          if (!dataTable) return;\n",
              "\n",
              "          const docLinkHtml = 'Like what you see? Visit the ' +\n",
              "            '<a target=\"_blank\" href=https://colab.research.google.com/notebooks/data_table.ipynb>data table notebook</a>'\n",
              "            + ' to learn more about interactive tables.';\n",
              "          element.innerHTML = '';\n",
              "          dataTable['output_type'] = 'display_data';\n",
              "          await google.colab.output.renderOutput(dataTable, element);\n",
              "          const docLink = document.createElement('div');\n",
              "          docLink.innerHTML = docLinkHtml;\n",
              "          element.appendChild(docLink);\n",
              "        }\n",
              "      </script>\n",
              "    </div>\n",
              "  </div>\n",
              "  "
            ]
          },
          "metadata": {},
          "execution_count": 73
        }
      ],
      "source": [
        "data_infertility.head()"
      ]
    },
    {
      "cell_type": "code",
      "execution_count": 74,
      "id": "53946905",
      "metadata": {
        "id": "53946905"
      },
      "outputs": [],
      "source": [
        "df = pd.merge(data_withoutinfertility, data_infertility,suffixes={'','_y'}, on='Patient File No.', how=\"left\",)"
      ]
    },
    {
      "cell_type": "code",
      "execution_count": 75,
      "id": "ba9011e2",
      "metadata": {
        "colab": {
          "base_uri": "https://localhost:8080/",
          "height": 369
        },
        "id": "ba9011e2",
        "outputId": "5f7b3425-5531-4872-9856-781d6040c184"
      },
      "outputs": [
        {
          "output_type": "execute_result",
          "data": {
            "text/plain": [
              "   Sl. No  Patient File No.  PCOS (Y/N)   Age (yrs)  Weight (Kg)  Height(Cm)   \\\n",
              "0     1.0               1.0         0.0        28.0         44.6        152.0   \n",
              "1     2.0               2.0         0.0        36.0         65.0        161.5   \n",
              "2     3.0               3.0         1.0        33.0         68.8        165.0   \n",
              "3     4.0               4.0         0.0        37.0         65.0        148.0   \n",
              "4     5.0               5.0         0.0        25.0         52.0        161.0   \n",
              "\n",
              "         BMI  Blood Group  Pulse rate(bpm)   RR (breaths/min)  ...  \\\n",
              "0  19.300000         15.0              78.0              22.0  ...   \n",
              "1  24.921163         15.0              74.0              20.0  ...   \n",
              "2  25.270891         11.0              72.0              18.0  ...   \n",
              "3  29.674945         13.0              72.0              20.0  ...   \n",
              "4  20.060954         11.0              72.0              18.0  ...   \n",
              "\n",
              "   Follicle No. (R)  Avg. F size (L) (mm)  Avg. F size (R) (mm)  \\\n",
              "0               3.0                  18.0                  18.0   \n",
              "1               5.0                  15.0                  14.0   \n",
              "2              15.0                  18.0                  20.0   \n",
              "3               2.0                  15.0                  14.0   \n",
              "4               4.0                  16.0                  14.0   \n",
              "\n",
              "   Endometrium (mm)  Unnamed: 44  Sl. No_y  PCOS (Y/N)_y  \\\n",
              "0               8.5          NaN       NaN           NaN   \n",
              "1               3.7          NaN       NaN           NaN   \n",
              "2              10.0          NaN       NaN           NaN   \n",
              "3               7.5          NaN       NaN           NaN   \n",
              "4               7.0          NaN       NaN           NaN   \n",
              "\n",
              "    I   beta-HCG(mIU/mL)_y  II    beta-HCG(mIU/mL)_y  AMH(ng/mL)_y  \n",
              "0                      NaN                       NaN           NaN  \n",
              "1                      NaN                       NaN           NaN  \n",
              "2                      NaN                       NaN           NaN  \n",
              "3                      NaN                       NaN           NaN  \n",
              "4                      NaN                       NaN           NaN  \n",
              "\n",
              "[5 rows x 50 columns]"
            ],
            "text/html": [
              "\n",
              "  <div id=\"df-59748d15-cd6b-4331-8be9-3fc886b1b876\">\n",
              "    <div class=\"colab-df-container\">\n",
              "      <div>\n",
              "<style scoped>\n",
              "    .dataframe tbody tr th:only-of-type {\n",
              "        vertical-align: middle;\n",
              "    }\n",
              "\n",
              "    .dataframe tbody tr th {\n",
              "        vertical-align: top;\n",
              "    }\n",
              "\n",
              "    .dataframe thead th {\n",
              "        text-align: right;\n",
              "    }\n",
              "</style>\n",
              "<table border=\"1\" class=\"dataframe\">\n",
              "  <thead>\n",
              "    <tr style=\"text-align: right;\">\n",
              "      <th></th>\n",
              "      <th>Sl. No</th>\n",
              "      <th>Patient File No.</th>\n",
              "      <th>PCOS (Y/N)</th>\n",
              "      <th>Age (yrs)</th>\n",
              "      <th>Weight (Kg)</th>\n",
              "      <th>Height(Cm)</th>\n",
              "      <th>BMI</th>\n",
              "      <th>Blood Group</th>\n",
              "      <th>Pulse rate(bpm)</th>\n",
              "      <th>RR (breaths/min)</th>\n",
              "      <th>...</th>\n",
              "      <th>Follicle No. (R)</th>\n",
              "      <th>Avg. F size (L) (mm)</th>\n",
              "      <th>Avg. F size (R) (mm)</th>\n",
              "      <th>Endometrium (mm)</th>\n",
              "      <th>Unnamed: 44</th>\n",
              "      <th>Sl. No_y</th>\n",
              "      <th>PCOS (Y/N)_y</th>\n",
              "      <th>I   beta-HCG(mIU/mL)_y</th>\n",
              "      <th>II    beta-HCG(mIU/mL)_y</th>\n",
              "      <th>AMH(ng/mL)_y</th>\n",
              "    </tr>\n",
              "  </thead>\n",
              "  <tbody>\n",
              "    <tr>\n",
              "      <th>0</th>\n",
              "      <td>1.0</td>\n",
              "      <td>1.0</td>\n",
              "      <td>0.0</td>\n",
              "      <td>28.0</td>\n",
              "      <td>44.6</td>\n",
              "      <td>152.0</td>\n",
              "      <td>19.300000</td>\n",
              "      <td>15.0</td>\n",
              "      <td>78.0</td>\n",
              "      <td>22.0</td>\n",
              "      <td>...</td>\n",
              "      <td>3.0</td>\n",
              "      <td>18.0</td>\n",
              "      <td>18.0</td>\n",
              "      <td>8.5</td>\n",
              "      <td>NaN</td>\n",
              "      <td>NaN</td>\n",
              "      <td>NaN</td>\n",
              "      <td>NaN</td>\n",
              "      <td>NaN</td>\n",
              "      <td>NaN</td>\n",
              "    </tr>\n",
              "    <tr>\n",
              "      <th>1</th>\n",
              "      <td>2.0</td>\n",
              "      <td>2.0</td>\n",
              "      <td>0.0</td>\n",
              "      <td>36.0</td>\n",
              "      <td>65.0</td>\n",
              "      <td>161.5</td>\n",
              "      <td>24.921163</td>\n",
              "      <td>15.0</td>\n",
              "      <td>74.0</td>\n",
              "      <td>20.0</td>\n",
              "      <td>...</td>\n",
              "      <td>5.0</td>\n",
              "      <td>15.0</td>\n",
              "      <td>14.0</td>\n",
              "      <td>3.7</td>\n",
              "      <td>NaN</td>\n",
              "      <td>NaN</td>\n",
              "      <td>NaN</td>\n",
              "      <td>NaN</td>\n",
              "      <td>NaN</td>\n",
              "      <td>NaN</td>\n",
              "    </tr>\n",
              "    <tr>\n",
              "      <th>2</th>\n",
              "      <td>3.0</td>\n",
              "      <td>3.0</td>\n",
              "      <td>1.0</td>\n",
              "      <td>33.0</td>\n",
              "      <td>68.8</td>\n",
              "      <td>165.0</td>\n",
              "      <td>25.270891</td>\n",
              "      <td>11.0</td>\n",
              "      <td>72.0</td>\n",
              "      <td>18.0</td>\n",
              "      <td>...</td>\n",
              "      <td>15.0</td>\n",
              "      <td>18.0</td>\n",
              "      <td>20.0</td>\n",
              "      <td>10.0</td>\n",
              "      <td>NaN</td>\n",
              "      <td>NaN</td>\n",
              "      <td>NaN</td>\n",
              "      <td>NaN</td>\n",
              "      <td>NaN</td>\n",
              "      <td>NaN</td>\n",
              "    </tr>\n",
              "    <tr>\n",
              "      <th>3</th>\n",
              "      <td>4.0</td>\n",
              "      <td>4.0</td>\n",
              "      <td>0.0</td>\n",
              "      <td>37.0</td>\n",
              "      <td>65.0</td>\n",
              "      <td>148.0</td>\n",
              "      <td>29.674945</td>\n",
              "      <td>13.0</td>\n",
              "      <td>72.0</td>\n",
              "      <td>20.0</td>\n",
              "      <td>...</td>\n",
              "      <td>2.0</td>\n",
              "      <td>15.0</td>\n",
              "      <td>14.0</td>\n",
              "      <td>7.5</td>\n",
              "      <td>NaN</td>\n",
              "      <td>NaN</td>\n",
              "      <td>NaN</td>\n",
              "      <td>NaN</td>\n",
              "      <td>NaN</td>\n",
              "      <td>NaN</td>\n",
              "    </tr>\n",
              "    <tr>\n",
              "      <th>4</th>\n",
              "      <td>5.0</td>\n",
              "      <td>5.0</td>\n",
              "      <td>0.0</td>\n",
              "      <td>25.0</td>\n",
              "      <td>52.0</td>\n",
              "      <td>161.0</td>\n",
              "      <td>20.060954</td>\n",
              "      <td>11.0</td>\n",
              "      <td>72.0</td>\n",
              "      <td>18.0</td>\n",
              "      <td>...</td>\n",
              "      <td>4.0</td>\n",
              "      <td>16.0</td>\n",
              "      <td>14.0</td>\n",
              "      <td>7.0</td>\n",
              "      <td>NaN</td>\n",
              "      <td>NaN</td>\n",
              "      <td>NaN</td>\n",
              "      <td>NaN</td>\n",
              "      <td>NaN</td>\n",
              "      <td>NaN</td>\n",
              "    </tr>\n",
              "  </tbody>\n",
              "</table>\n",
              "<p>5 rows × 50 columns</p>\n",
              "</div>\n",
              "      <button class=\"colab-df-convert\" onclick=\"convertToInteractive('df-59748d15-cd6b-4331-8be9-3fc886b1b876')\"\n",
              "              title=\"Convert this dataframe to an interactive table.\"\n",
              "              style=\"display:none;\">\n",
              "        \n",
              "  <svg xmlns=\"http://www.w3.org/2000/svg\" height=\"24px\"viewBox=\"0 0 24 24\"\n",
              "       width=\"24px\">\n",
              "    <path d=\"M0 0h24v24H0V0z\" fill=\"none\"/>\n",
              "    <path d=\"M18.56 5.44l.94 2.06.94-2.06 2.06-.94-2.06-.94-.94-2.06-.94 2.06-2.06.94zm-11 1L8.5 8.5l.94-2.06 2.06-.94-2.06-.94L8.5 2.5l-.94 2.06-2.06.94zm10 10l.94 2.06.94-2.06 2.06-.94-2.06-.94-.94-2.06-.94 2.06-2.06.94z\"/><path d=\"M17.41 7.96l-1.37-1.37c-.4-.4-.92-.59-1.43-.59-.52 0-1.04.2-1.43.59L10.3 9.45l-7.72 7.72c-.78.78-.78 2.05 0 2.83L4 21.41c.39.39.9.59 1.41.59.51 0 1.02-.2 1.41-.59l7.78-7.78 2.81-2.81c.8-.78.8-2.07 0-2.86zM5.41 20L4 18.59l7.72-7.72 1.47 1.35L5.41 20z\"/>\n",
              "  </svg>\n",
              "      </button>\n",
              "      \n",
              "  <style>\n",
              "    .colab-df-container {\n",
              "      display:flex;\n",
              "      flex-wrap:wrap;\n",
              "      gap: 12px;\n",
              "    }\n",
              "\n",
              "    .colab-df-convert {\n",
              "      background-color: #E8F0FE;\n",
              "      border: none;\n",
              "      border-radius: 50%;\n",
              "      cursor: pointer;\n",
              "      display: none;\n",
              "      fill: #1967D2;\n",
              "      height: 32px;\n",
              "      padding: 0 0 0 0;\n",
              "      width: 32px;\n",
              "    }\n",
              "\n",
              "    .colab-df-convert:hover {\n",
              "      background-color: #E2EBFA;\n",
              "      box-shadow: 0px 1px 2px rgba(60, 64, 67, 0.3), 0px 1px 3px 1px rgba(60, 64, 67, 0.15);\n",
              "      fill: #174EA6;\n",
              "    }\n",
              "\n",
              "    [theme=dark] .colab-df-convert {\n",
              "      background-color: #3B4455;\n",
              "      fill: #D2E3FC;\n",
              "    }\n",
              "\n",
              "    [theme=dark] .colab-df-convert:hover {\n",
              "      background-color: #434B5C;\n",
              "      box-shadow: 0px 1px 3px 1px rgba(0, 0, 0, 0.15);\n",
              "      filter: drop-shadow(0px 1px 2px rgba(0, 0, 0, 0.3));\n",
              "      fill: #FFFFFF;\n",
              "    }\n",
              "  </style>\n",
              "\n",
              "      <script>\n",
              "        const buttonEl =\n",
              "          document.querySelector('#df-59748d15-cd6b-4331-8be9-3fc886b1b876 button.colab-df-convert');\n",
              "        buttonEl.style.display =\n",
              "          google.colab.kernel.accessAllowed ? 'block' : 'none';\n",
              "\n",
              "        async function convertToInteractive(key) {\n",
              "          const element = document.querySelector('#df-59748d15-cd6b-4331-8be9-3fc886b1b876');\n",
              "          const dataTable =\n",
              "            await google.colab.kernel.invokeFunction('convertToInteractive',\n",
              "                                                     [key], {});\n",
              "          if (!dataTable) return;\n",
              "\n",
              "          const docLinkHtml = 'Like what you see? Visit the ' +\n",
              "            '<a target=\"_blank\" href=https://colab.research.google.com/notebooks/data_table.ipynb>data table notebook</a>'\n",
              "            + ' to learn more about interactive tables.';\n",
              "          element.innerHTML = '';\n",
              "          dataTable['output_type'] = 'display_data';\n",
              "          await google.colab.output.renderOutput(dataTable, element);\n",
              "          const docLink = document.createElement('div');\n",
              "          docLink.innerHTML = docLinkHtml;\n",
              "          element.appendChild(docLink);\n",
              "        }\n",
              "      </script>\n",
              "    </div>\n",
              "  </div>\n",
              "  "
            ]
          },
          "metadata": {},
          "execution_count": 75
        }
      ],
      "source": [
        "df.head()"
      ]
    },
    {
      "cell_type": "code",
      "execution_count": 76,
      "id": "d26595bd",
      "metadata": {
        "colab": {
          "base_uri": "https://localhost:8080/"
        },
        "id": "d26595bd",
        "outputId": "ad4f15a4-9269-4d64-9194-5328191d2f62"
      },
      "outputs": [
        {
          "output_type": "execute_result",
          "data": {
            "text/plain": [
              "Index(['Sl. No', 'Patient File No.', 'PCOS (Y/N)', ' Age (yrs)', 'Weight (Kg)',\n",
              "       'Height(Cm) ', 'BMI', 'Blood Group', 'Pulse rate(bpm) ',\n",
              "       'RR (breaths/min)', 'Hb(g/dl)', 'Cycle(R/I)', 'Cycle length(days)',\n",
              "       'Marraige Status (Yrs)', 'Pregnant(Y/N)', 'No. of aborptions',\n",
              "       '  I   beta-HCG(mIU/mL)', 'II    beta-HCG(mIU/mL)', 'FSH(mIU/mL)',\n",
              "       'LH(mIU/mL)', 'FSH/LH', 'Hip(inch)', 'Waist(inch)', 'Waist:Hip Ratio',\n",
              "       'TSH (mIU/L)', 'AMH(ng/mL)', 'PRL(ng/mL)', 'Vit D3 (ng/mL)',\n",
              "       'PRG(ng/mL)', 'RBS(mg/dl)', 'Weight gain(Y/N)', 'hair growth(Y/N)',\n",
              "       'Skin darkening (Y/N)', 'Hair loss(Y/N)', 'Pimples(Y/N)',\n",
              "       'Fast food (Y/N)', 'Reg.Exercise(Y/N)', 'BP _Systolic (mmHg)',\n",
              "       'BP _Diastolic (mmHg)', 'Follicle No. (L)', 'Follicle No. (R)',\n",
              "       'Avg. F size (L) (mm)', 'Avg. F size (R) (mm)', 'Endometrium (mm)',\n",
              "       'Unnamed: 44', 'Sl. No_y', 'PCOS (Y/N)_y', '  I   beta-HCG(mIU/mL)_y',\n",
              "       'II    beta-HCG(mIU/mL)_y', 'AMH(ng/mL)_y'],\n",
              "      dtype='object')"
            ]
          },
          "metadata": {},
          "execution_count": 76
        }
      ],
      "source": [
        "df.columns"
      ]
    },
    {
      "cell_type": "code",
      "execution_count": 77,
      "id": "4ea4d00a",
      "metadata": {
        "colab": {
          "base_uri": "https://localhost:8080/"
        },
        "id": "4ea4d00a",
        "outputId": "079dd956-a4f3-4a30-fd6f-c0e8bc9a2611"
      },
      "outputs": [
        {
          "output_type": "execute_result",
          "data": {
            "text/plain": [
              "(541, 50)"
            ]
          },
          "metadata": {},
          "execution_count": 77
        }
      ],
      "source": [
        "df.shape"
      ]
    },
    {
      "cell_type": "markdown",
      "id": "be5bf99a",
      "metadata": {
        "id": "be5bf99a"
      },
      "source": [
        "# EDA"
      ]
    },
    {
      "cell_type": "code",
      "execution_count": 78,
      "id": "7e148ff0",
      "metadata": {
        "colab": {
          "base_uri": "https://localhost:8080/"
        },
        "id": "7e148ff0",
        "outputId": "390e32e3-00df-4db6-fa2f-514154fc1556"
      },
      "outputs": [
        {
          "output_type": "execute_result",
          "data": {
            "text/plain": [
              "Sl. No                      float64\n",
              "Patient File No.            float64\n",
              "PCOS (Y/N)                  float64\n",
              " Age (yrs)                  float64\n",
              "Weight (Kg)                 float64\n",
              "Height(Cm)                  float64\n",
              "BMI                         float64\n",
              "Blood Group                 float64\n",
              "Pulse rate(bpm)             float64\n",
              "RR (breaths/min)            float64\n",
              "Hb(g/dl)                    float64\n",
              "Cycle(R/I)                  float64\n",
              "Cycle length(days)          float64\n",
              "Marraige Status (Yrs)       float64\n",
              "Pregnant(Y/N)               float64\n",
              "No. of aborptions           float64\n",
              "  I   beta-HCG(mIU/mL)      float64\n",
              "II    beta-HCG(mIU/mL)       object\n",
              "FSH(mIU/mL)                 float64\n",
              "LH(mIU/mL)                  float64\n",
              "FSH/LH                      float64\n",
              "Hip(inch)                   float64\n",
              "Waist(inch)                 float64\n",
              "Waist:Hip Ratio             float64\n",
              "TSH (mIU/L)                 float64\n",
              "AMH(ng/mL)                   object\n",
              "PRL(ng/mL)                  float64\n",
              "Vit D3 (ng/mL)              float64\n",
              "PRG(ng/mL)                  float64\n",
              "RBS(mg/dl)                  float64\n",
              "Weight gain(Y/N)            float64\n",
              "hair growth(Y/N)            float64\n",
              "Skin darkening (Y/N)        float64\n",
              "Hair loss(Y/N)              float64\n",
              "Pimples(Y/N)                float64\n",
              "Fast food (Y/N)             float64\n",
              "Reg.Exercise(Y/N)           float64\n",
              "BP _Systolic (mmHg)         float64\n",
              "BP _Diastolic (mmHg)        float64\n",
              "Follicle No. (L)            float64\n",
              "Follicle No. (R)            float64\n",
              "Avg. F size (L) (mm)        float64\n",
              "Avg. F size (R) (mm)        float64\n",
              "Endometrium (mm)            float64\n",
              "Unnamed: 44                  object\n",
              "Sl. No_y                    float64\n",
              "PCOS (Y/N)_y                float64\n",
              "  I   beta-HCG(mIU/mL)_y    float64\n",
              "II    beta-HCG(mIU/mL)_y    float64\n",
              "AMH(ng/mL)_y                 object\n",
              "dtype: object"
            ]
          },
          "metadata": {},
          "execution_count": 78
        }
      ],
      "source": [
        "#Check data types\n",
        "df.dtypes"
      ]
    },
    {
      "cell_type": "code",
      "execution_count": 79,
      "id": "91fc11e1",
      "metadata": {
        "colab": {
          "base_uri": "https://localhost:8080/"
        },
        "id": "91fc11e1",
        "outputId": "e1786504-e3b1-4c66-ebae-149d2f12f512"
      },
      "outputs": [
        {
          "output_type": "stream",
          "name": "stdout",
          "text": [
            "<class 'pandas.core.frame.DataFrame'>\n",
            "Int64Index: 541 entries, 0 to 540\n",
            "Data columns (total 50 columns):\n",
            " #   Column                    Non-Null Count  Dtype  \n",
            "---  ------                    --------------  -----  \n",
            " 0   Sl. No                    541 non-null    float64\n",
            " 1   Patient File No.          541 non-null    float64\n",
            " 2   PCOS (Y/N)                541 non-null    float64\n",
            " 3    Age (yrs)                541 non-null    float64\n",
            " 4   Weight (Kg)               541 non-null    float64\n",
            " 5   Height(Cm)                541 non-null    float64\n",
            " 6   BMI                       541 non-null    float64\n",
            " 7   Blood Group               541 non-null    float64\n",
            " 8   Pulse rate(bpm)           541 non-null    float64\n",
            " 9   RR (breaths/min)          541 non-null    float64\n",
            " 10  Hb(g/dl)                  541 non-null    float64\n",
            " 11  Cycle(R/I)                541 non-null    float64\n",
            " 12  Cycle length(days)        541 non-null    float64\n",
            " 13  Marraige Status (Yrs)     540 non-null    float64\n",
            " 14  Pregnant(Y/N)             541 non-null    float64\n",
            " 15  No. of aborptions         541 non-null    float64\n",
            " 16    I   beta-HCG(mIU/mL)    541 non-null    float64\n",
            " 17  II    beta-HCG(mIU/mL)    541 non-null    object \n",
            " 18  FSH(mIU/mL)               541 non-null    float64\n",
            " 19  LH(mIU/mL)                541 non-null    float64\n",
            " 20  FSH/LH                    541 non-null    float64\n",
            " 21  Hip(inch)                 541 non-null    float64\n",
            " 22  Waist(inch)               541 non-null    float64\n",
            " 23  Waist:Hip Ratio           541 non-null    float64\n",
            " 24  TSH (mIU/L)               541 non-null    float64\n",
            " 25  AMH(ng/mL)                541 non-null    object \n",
            " 26  PRL(ng/mL)                541 non-null    float64\n",
            " 27  Vit D3 (ng/mL)            541 non-null    float64\n",
            " 28  PRG(ng/mL)                541 non-null    float64\n",
            " 29  RBS(mg/dl)                541 non-null    float64\n",
            " 30  Weight gain(Y/N)          541 non-null    float64\n",
            " 31  hair growth(Y/N)          541 non-null    float64\n",
            " 32  Skin darkening (Y/N)      541 non-null    float64\n",
            " 33  Hair loss(Y/N)            541 non-null    float64\n",
            " 34  Pimples(Y/N)              541 non-null    float64\n",
            " 35  Fast food (Y/N)           540 non-null    float64\n",
            " 36  Reg.Exercise(Y/N)         541 non-null    float64\n",
            " 37  BP _Systolic (mmHg)       541 non-null    float64\n",
            " 38  BP _Diastolic (mmHg)      541 non-null    float64\n",
            " 39  Follicle No. (L)          541 non-null    float64\n",
            " 40  Follicle No. (R)          541 non-null    float64\n",
            " 41  Avg. F size (L) (mm)      541 non-null    float64\n",
            " 42  Avg. F size (R) (mm)      541 non-null    float64\n",
            " 43  Endometrium (mm)          541 non-null    float64\n",
            " 44  Unnamed: 44               2 non-null      object \n",
            " 45  Sl. No_y                  0 non-null      float64\n",
            " 46  PCOS (Y/N)_y              0 non-null      float64\n",
            " 47    I   beta-HCG(mIU/mL)_y  0 non-null      float64\n",
            " 48  II    beta-HCG(mIU/mL)_y  0 non-null      float64\n",
            " 49  AMH(ng/mL)_y              0 non-null      object \n",
            "dtypes: float64(46), object(4)\n",
            "memory usage: 215.6+ KB\n"
          ]
        }
      ],
      "source": [
        "#Check Info\n",
        "df.info()"
      ]
    },
    {
      "cell_type": "code",
      "source": [
        "# Convert string data type to float\n",
        "\n",
        "df['AMH(ng/mL)'] = pd.to_numeric(df['AMH(ng/mL)'],errors = 'coerce')\n",
        "df['II    beta-HCG(mIU/mL)'] = pd.to_numeric(df['II    beta-HCG(mIU/mL)'],errors = 'coerce')\n"
      ],
      "metadata": {
        "id": "KcHvGVO1WmGC"
      },
      "id": "KcHvGVO1WmGC",
      "execution_count": 80,
      "outputs": []
    },
    {
      "cell_type": "code",
      "execution_count": 81,
      "id": "4089288e",
      "metadata": {
        "colab": {
          "base_uri": "https://localhost:8080/"
        },
        "id": "4089288e",
        "outputId": "9e1eba97-ad98-4fde-9eab-b8c5133fe532"
      },
      "outputs": [
        {
          "output_type": "execute_result",
          "data": {
            "text/plain": [
              "Sl. No                        0\n",
              "Patient File No.              0\n",
              "PCOS (Y/N)                    0\n",
              " Age (yrs)                    0\n",
              "Weight (Kg)                   0\n",
              "Height(Cm)                    0\n",
              "BMI                           0\n",
              "Blood Group                   0\n",
              "Pulse rate(bpm)               0\n",
              "RR (breaths/min)              0\n",
              "Hb(g/dl)                      0\n",
              "Cycle(R/I)                    0\n",
              "Cycle length(days)            0\n",
              "Marraige Status (Yrs)         1\n",
              "Pregnant(Y/N)                 0\n",
              "No. of aborptions             0\n",
              "  I   beta-HCG(mIU/mL)        0\n",
              "II    beta-HCG(mIU/mL)        1\n",
              "FSH(mIU/mL)                   0\n",
              "LH(mIU/mL)                    0\n",
              "FSH/LH                        0\n",
              "Hip(inch)                     0\n",
              "Waist(inch)                   0\n",
              "Waist:Hip Ratio               0\n",
              "TSH (mIU/L)                   0\n",
              "AMH(ng/mL)                    1\n",
              "PRL(ng/mL)                    0\n",
              "Vit D3 (ng/mL)                0\n",
              "PRG(ng/mL)                    0\n",
              "RBS(mg/dl)                    0\n",
              "Weight gain(Y/N)              0\n",
              "hair growth(Y/N)              0\n",
              "Skin darkening (Y/N)          0\n",
              "Hair loss(Y/N)                0\n",
              "Pimples(Y/N)                  0\n",
              "Fast food (Y/N)               1\n",
              "Reg.Exercise(Y/N)             0\n",
              "BP _Systolic (mmHg)           0\n",
              "BP _Diastolic (mmHg)          0\n",
              "Follicle No. (L)              0\n",
              "Follicle No. (R)              0\n",
              "Avg. F size (L) (mm)          0\n",
              "Avg. F size (R) (mm)          0\n",
              "Endometrium (mm)              0\n",
              "Unnamed: 44                 539\n",
              "Sl. No_y                    541\n",
              "PCOS (Y/N)_y                541\n",
              "  I   beta-HCG(mIU/mL)_y    541\n",
              "II    beta-HCG(mIU/mL)_y    541\n",
              "AMH(ng/mL)_y                541\n",
              "dtype: int64"
            ]
          },
          "metadata": {},
          "execution_count": 81
        }
      ],
      "source": [
        "#Check Missing Values\n",
        "df.isnull().sum()"
      ]
    },
    {
      "cell_type": "code",
      "execution_count": 82,
      "id": "f38fa327",
      "metadata": {
        "id": "f38fa327"
      },
      "outputs": [],
      "source": [
        "df.drop([ \n",
        "       'Unnamed: 44', 'Sl. No_y', 'PCOS (Y/N)_y', '  I   beta-HCG(mIU/mL)_y',\n",
        "       'II    beta-HCG(mIU/mL)_y', 'AMH(ng/mL)_y'], axis=1, inplace= True)"
      ]
    },
    {
      "cell_type": "code",
      "source": [
        "#Null-Value impute \n",
        "df['Fast food (Y/N)'].fillna(0, inplace = True)\n",
        "\n",
        "df['Marraige Status (Yrs)'] = df['Marraige Status (Yrs)'].dropna().median()\n",
        "\n",
        "df['II    beta-HCG(mIU/mL)'] = df['II    beta-HCG(mIU/mL)'].dropna().median()\n",
        "df['AMH(ng/mL)'] = df['AMH(ng/mL)'].dropna().median()"
      ],
      "metadata": {
        "id": "mpmhjNpcSD4P"
      },
      "id": "mpmhjNpcSD4P",
      "execution_count": 83,
      "outputs": []
    },
    {
      "cell_type": "code",
      "source": [
        "#Check Missing Values after Impute\n",
        "df.isnull().sum()"
      ],
      "metadata": {
        "colab": {
          "base_uri": "https://localhost:8080/"
        },
        "id": "MIikegKoQG8b",
        "outputId": "b44a69b6-cc24-4d48-fe82-69311abb3965"
      },
      "id": "MIikegKoQG8b",
      "execution_count": 84,
      "outputs": [
        {
          "output_type": "execute_result",
          "data": {
            "text/plain": [
              "Sl. No                    0\n",
              "Patient File No.          0\n",
              "PCOS (Y/N)                0\n",
              " Age (yrs)                0\n",
              "Weight (Kg)               0\n",
              "Height(Cm)                0\n",
              "BMI                       0\n",
              "Blood Group               0\n",
              "Pulse rate(bpm)           0\n",
              "RR (breaths/min)          0\n",
              "Hb(g/dl)                  0\n",
              "Cycle(R/I)                0\n",
              "Cycle length(days)        0\n",
              "Marraige Status (Yrs)     0\n",
              "Pregnant(Y/N)             0\n",
              "No. of aborptions         0\n",
              "  I   beta-HCG(mIU/mL)    0\n",
              "II    beta-HCG(mIU/mL)    0\n",
              "FSH(mIU/mL)               0\n",
              "LH(mIU/mL)                0\n",
              "FSH/LH                    0\n",
              "Hip(inch)                 0\n",
              "Waist(inch)               0\n",
              "Waist:Hip Ratio           0\n",
              "TSH (mIU/L)               0\n",
              "AMH(ng/mL)                0\n",
              "PRL(ng/mL)                0\n",
              "Vit D3 (ng/mL)            0\n",
              "PRG(ng/mL)                0\n",
              "RBS(mg/dl)                0\n",
              "Weight gain(Y/N)          0\n",
              "hair growth(Y/N)          0\n",
              "Skin darkening (Y/N)      0\n",
              "Hair loss(Y/N)            0\n",
              "Pimples(Y/N)              0\n",
              "Fast food (Y/N)           0\n",
              "Reg.Exercise(Y/N)         0\n",
              "BP _Systolic (mmHg)       0\n",
              "BP _Diastolic (mmHg)      0\n",
              "Follicle No. (L)          0\n",
              "Follicle No. (R)          0\n",
              "Avg. F size (L) (mm)      0\n",
              "Avg. F size (R) (mm)      0\n",
              "Endometrium (mm)          0\n",
              "dtype: int64"
            ]
          },
          "metadata": {},
          "execution_count": 84
        }
      ]
    },
    {
      "cell_type": "code",
      "source": [
        "df.head(5)"
      ],
      "metadata": {
        "colab": {
          "base_uri": "https://localhost:8080/",
          "height": 369
        },
        "id": "_eqg8Ay9RzT7",
        "outputId": "56221eaf-cbe9-474d-c46d-8d6e334d8f12"
      },
      "id": "_eqg8Ay9RzT7",
      "execution_count": 85,
      "outputs": [
        {
          "output_type": "execute_result",
          "data": {
            "text/plain": [
              "   Sl. No  Patient File No.  PCOS (Y/N)   Age (yrs)  Weight (Kg)  Height(Cm)   \\\n",
              "0     1.0               1.0         0.0        28.0         44.6        152.0   \n",
              "1     2.0               2.0         0.0        36.0         65.0        161.5   \n",
              "2     3.0               3.0         1.0        33.0         68.8        165.0   \n",
              "3     4.0               4.0         0.0        37.0         65.0        148.0   \n",
              "4     5.0               5.0         0.0        25.0         52.0        161.0   \n",
              "\n",
              "         BMI  Blood Group  Pulse rate(bpm)   RR (breaths/min)  ...  \\\n",
              "0  19.300000         15.0              78.0              22.0  ...   \n",
              "1  24.921163         15.0              74.0              20.0  ...   \n",
              "2  25.270891         11.0              72.0              18.0  ...   \n",
              "3  29.674945         13.0              72.0              20.0  ...   \n",
              "4  20.060954         11.0              72.0              18.0  ...   \n",
              "\n",
              "   Pimples(Y/N)  Fast food (Y/N)  Reg.Exercise(Y/N)  BP _Systolic (mmHg)  \\\n",
              "0           0.0              1.0                0.0                110.0   \n",
              "1           0.0              0.0                0.0                120.0   \n",
              "2           1.0              1.0                0.0                120.0   \n",
              "3           0.0              0.0                0.0                120.0   \n",
              "4           0.0              0.0                0.0                120.0   \n",
              "\n",
              "   BP _Diastolic (mmHg)  Follicle No. (L)  Follicle No. (R)  \\\n",
              "0                  80.0               3.0               3.0   \n",
              "1                  70.0               3.0               5.0   \n",
              "2                  80.0              13.0              15.0   \n",
              "3                  70.0               2.0               2.0   \n",
              "4                  80.0               3.0               4.0   \n",
              "\n",
              "   Avg. F size (L) (mm)  Avg. F size (R) (mm)  Endometrium (mm)  \n",
              "0                  18.0                  18.0               8.5  \n",
              "1                  15.0                  14.0               3.7  \n",
              "2                  18.0                  20.0              10.0  \n",
              "3                  15.0                  14.0               7.5  \n",
              "4                  16.0                  14.0               7.0  \n",
              "\n",
              "[5 rows x 44 columns]"
            ],
            "text/html": [
              "\n",
              "  <div id=\"df-1110359a-d8a9-4749-a952-710ea07a30c6\">\n",
              "    <div class=\"colab-df-container\">\n",
              "      <div>\n",
              "<style scoped>\n",
              "    .dataframe tbody tr th:only-of-type {\n",
              "        vertical-align: middle;\n",
              "    }\n",
              "\n",
              "    .dataframe tbody tr th {\n",
              "        vertical-align: top;\n",
              "    }\n",
              "\n",
              "    .dataframe thead th {\n",
              "        text-align: right;\n",
              "    }\n",
              "</style>\n",
              "<table border=\"1\" class=\"dataframe\">\n",
              "  <thead>\n",
              "    <tr style=\"text-align: right;\">\n",
              "      <th></th>\n",
              "      <th>Sl. No</th>\n",
              "      <th>Patient File No.</th>\n",
              "      <th>PCOS (Y/N)</th>\n",
              "      <th>Age (yrs)</th>\n",
              "      <th>Weight (Kg)</th>\n",
              "      <th>Height(Cm)</th>\n",
              "      <th>BMI</th>\n",
              "      <th>Blood Group</th>\n",
              "      <th>Pulse rate(bpm)</th>\n",
              "      <th>RR (breaths/min)</th>\n",
              "      <th>...</th>\n",
              "      <th>Pimples(Y/N)</th>\n",
              "      <th>Fast food (Y/N)</th>\n",
              "      <th>Reg.Exercise(Y/N)</th>\n",
              "      <th>BP _Systolic (mmHg)</th>\n",
              "      <th>BP _Diastolic (mmHg)</th>\n",
              "      <th>Follicle No. (L)</th>\n",
              "      <th>Follicle No. (R)</th>\n",
              "      <th>Avg. F size (L) (mm)</th>\n",
              "      <th>Avg. F size (R) (mm)</th>\n",
              "      <th>Endometrium (mm)</th>\n",
              "    </tr>\n",
              "  </thead>\n",
              "  <tbody>\n",
              "    <tr>\n",
              "      <th>0</th>\n",
              "      <td>1.0</td>\n",
              "      <td>1.0</td>\n",
              "      <td>0.0</td>\n",
              "      <td>28.0</td>\n",
              "      <td>44.6</td>\n",
              "      <td>152.0</td>\n",
              "      <td>19.300000</td>\n",
              "      <td>15.0</td>\n",
              "      <td>78.0</td>\n",
              "      <td>22.0</td>\n",
              "      <td>...</td>\n",
              "      <td>0.0</td>\n",
              "      <td>1.0</td>\n",
              "      <td>0.0</td>\n",
              "      <td>110.0</td>\n",
              "      <td>80.0</td>\n",
              "      <td>3.0</td>\n",
              "      <td>3.0</td>\n",
              "      <td>18.0</td>\n",
              "      <td>18.0</td>\n",
              "      <td>8.5</td>\n",
              "    </tr>\n",
              "    <tr>\n",
              "      <th>1</th>\n",
              "      <td>2.0</td>\n",
              "      <td>2.0</td>\n",
              "      <td>0.0</td>\n",
              "      <td>36.0</td>\n",
              "      <td>65.0</td>\n",
              "      <td>161.5</td>\n",
              "      <td>24.921163</td>\n",
              "      <td>15.0</td>\n",
              "      <td>74.0</td>\n",
              "      <td>20.0</td>\n",
              "      <td>...</td>\n",
              "      <td>0.0</td>\n",
              "      <td>0.0</td>\n",
              "      <td>0.0</td>\n",
              "      <td>120.0</td>\n",
              "      <td>70.0</td>\n",
              "      <td>3.0</td>\n",
              "      <td>5.0</td>\n",
              "      <td>15.0</td>\n",
              "      <td>14.0</td>\n",
              "      <td>3.7</td>\n",
              "    </tr>\n",
              "    <tr>\n",
              "      <th>2</th>\n",
              "      <td>3.0</td>\n",
              "      <td>3.0</td>\n",
              "      <td>1.0</td>\n",
              "      <td>33.0</td>\n",
              "      <td>68.8</td>\n",
              "      <td>165.0</td>\n",
              "      <td>25.270891</td>\n",
              "      <td>11.0</td>\n",
              "      <td>72.0</td>\n",
              "      <td>18.0</td>\n",
              "      <td>...</td>\n",
              "      <td>1.0</td>\n",
              "      <td>1.0</td>\n",
              "      <td>0.0</td>\n",
              "      <td>120.0</td>\n",
              "      <td>80.0</td>\n",
              "      <td>13.0</td>\n",
              "      <td>15.0</td>\n",
              "      <td>18.0</td>\n",
              "      <td>20.0</td>\n",
              "      <td>10.0</td>\n",
              "    </tr>\n",
              "    <tr>\n",
              "      <th>3</th>\n",
              "      <td>4.0</td>\n",
              "      <td>4.0</td>\n",
              "      <td>0.0</td>\n",
              "      <td>37.0</td>\n",
              "      <td>65.0</td>\n",
              "      <td>148.0</td>\n",
              "      <td>29.674945</td>\n",
              "      <td>13.0</td>\n",
              "      <td>72.0</td>\n",
              "      <td>20.0</td>\n",
              "      <td>...</td>\n",
              "      <td>0.0</td>\n",
              "      <td>0.0</td>\n",
              "      <td>0.0</td>\n",
              "      <td>120.0</td>\n",
              "      <td>70.0</td>\n",
              "      <td>2.0</td>\n",
              "      <td>2.0</td>\n",
              "      <td>15.0</td>\n",
              "      <td>14.0</td>\n",
              "      <td>7.5</td>\n",
              "    </tr>\n",
              "    <tr>\n",
              "      <th>4</th>\n",
              "      <td>5.0</td>\n",
              "      <td>5.0</td>\n",
              "      <td>0.0</td>\n",
              "      <td>25.0</td>\n",
              "      <td>52.0</td>\n",
              "      <td>161.0</td>\n",
              "      <td>20.060954</td>\n",
              "      <td>11.0</td>\n",
              "      <td>72.0</td>\n",
              "      <td>18.0</td>\n",
              "      <td>...</td>\n",
              "      <td>0.0</td>\n",
              "      <td>0.0</td>\n",
              "      <td>0.0</td>\n",
              "      <td>120.0</td>\n",
              "      <td>80.0</td>\n",
              "      <td>3.0</td>\n",
              "      <td>4.0</td>\n",
              "      <td>16.0</td>\n",
              "      <td>14.0</td>\n",
              "      <td>7.0</td>\n",
              "    </tr>\n",
              "  </tbody>\n",
              "</table>\n",
              "<p>5 rows × 44 columns</p>\n",
              "</div>\n",
              "      <button class=\"colab-df-convert\" onclick=\"convertToInteractive('df-1110359a-d8a9-4749-a952-710ea07a30c6')\"\n",
              "              title=\"Convert this dataframe to an interactive table.\"\n",
              "              style=\"display:none;\">\n",
              "        \n",
              "  <svg xmlns=\"http://www.w3.org/2000/svg\" height=\"24px\"viewBox=\"0 0 24 24\"\n",
              "       width=\"24px\">\n",
              "    <path d=\"M0 0h24v24H0V0z\" fill=\"none\"/>\n",
              "    <path d=\"M18.56 5.44l.94 2.06.94-2.06 2.06-.94-2.06-.94-.94-2.06-.94 2.06-2.06.94zm-11 1L8.5 8.5l.94-2.06 2.06-.94-2.06-.94L8.5 2.5l-.94 2.06-2.06.94zm10 10l.94 2.06.94-2.06 2.06-.94-2.06-.94-.94-2.06-.94 2.06-2.06.94z\"/><path d=\"M17.41 7.96l-1.37-1.37c-.4-.4-.92-.59-1.43-.59-.52 0-1.04.2-1.43.59L10.3 9.45l-7.72 7.72c-.78.78-.78 2.05 0 2.83L4 21.41c.39.39.9.59 1.41.59.51 0 1.02-.2 1.41-.59l7.78-7.78 2.81-2.81c.8-.78.8-2.07 0-2.86zM5.41 20L4 18.59l7.72-7.72 1.47 1.35L5.41 20z\"/>\n",
              "  </svg>\n",
              "      </button>\n",
              "      \n",
              "  <style>\n",
              "    .colab-df-container {\n",
              "      display:flex;\n",
              "      flex-wrap:wrap;\n",
              "      gap: 12px;\n",
              "    }\n",
              "\n",
              "    .colab-df-convert {\n",
              "      background-color: #E8F0FE;\n",
              "      border: none;\n",
              "      border-radius: 50%;\n",
              "      cursor: pointer;\n",
              "      display: none;\n",
              "      fill: #1967D2;\n",
              "      height: 32px;\n",
              "      padding: 0 0 0 0;\n",
              "      width: 32px;\n",
              "    }\n",
              "\n",
              "    .colab-df-convert:hover {\n",
              "      background-color: #E2EBFA;\n",
              "      box-shadow: 0px 1px 2px rgba(60, 64, 67, 0.3), 0px 1px 3px 1px rgba(60, 64, 67, 0.15);\n",
              "      fill: #174EA6;\n",
              "    }\n",
              "\n",
              "    [theme=dark] .colab-df-convert {\n",
              "      background-color: #3B4455;\n",
              "      fill: #D2E3FC;\n",
              "    }\n",
              "\n",
              "    [theme=dark] .colab-df-convert:hover {\n",
              "      background-color: #434B5C;\n",
              "      box-shadow: 0px 1px 3px 1px rgba(0, 0, 0, 0.15);\n",
              "      filter: drop-shadow(0px 1px 2px rgba(0, 0, 0, 0.3));\n",
              "      fill: #FFFFFF;\n",
              "    }\n",
              "  </style>\n",
              "\n",
              "      <script>\n",
              "        const buttonEl =\n",
              "          document.querySelector('#df-1110359a-d8a9-4749-a952-710ea07a30c6 button.colab-df-convert');\n",
              "        buttonEl.style.display =\n",
              "          google.colab.kernel.accessAllowed ? 'block' : 'none';\n",
              "\n",
              "        async function convertToInteractive(key) {\n",
              "          const element = document.querySelector('#df-1110359a-d8a9-4749-a952-710ea07a30c6');\n",
              "          const dataTable =\n",
              "            await google.colab.kernel.invokeFunction('convertToInteractive',\n",
              "                                                     [key], {});\n",
              "          if (!dataTable) return;\n",
              "\n",
              "          const docLinkHtml = 'Like what you see? Visit the ' +\n",
              "            '<a target=\"_blank\" href=https://colab.research.google.com/notebooks/data_table.ipynb>data table notebook</a>'\n",
              "            + ' to learn more about interactive tables.';\n",
              "          element.innerHTML = '';\n",
              "          dataTable['output_type'] = 'display_data';\n",
              "          await google.colab.output.renderOutput(dataTable, element);\n",
              "          const docLink = document.createElement('div');\n",
              "          docLink.innerHTML = docLinkHtml;\n",
              "          element.appendChild(docLink);\n",
              "        }\n",
              "      </script>\n",
              "    </div>\n",
              "  </div>\n",
              "  "
            ]
          },
          "metadata": {},
          "execution_count": 85
        }
      ]
    },
    {
      "cell_type": "code",
      "execution_count": 86,
      "id": "1edd6a3d",
      "metadata": {
        "colab": {
          "base_uri": "https://localhost:8080/"
        },
        "id": "1edd6a3d",
        "outputId": "7c00133b-4e56-41a3-fafd-1fb15ffba79b"
      },
      "outputs": [
        {
          "output_type": "execute_result",
          "data": {
            "text/plain": [
              "Index(['index', 'Sl. No', 'Patient File No.', 'PCOS (Y/N)', ' Age (yrs)',\n",
              "       'Weight (Kg)', 'Height(Cm) ', 'BMI', 'Blood Group', 'Pulse rate(bpm) ',\n",
              "       'RR (breaths/min)', 'Hb(g/dl)', 'Cycle(R/I)', 'Cycle length(days)',\n",
              "       'Marraige Status (Yrs)', 'Pregnant(Y/N)', 'No. of aborptions',\n",
              "       '  I   beta-HCG(mIU/mL)', 'II    beta-HCG(mIU/mL)', 'FSH(mIU/mL)',\n",
              "       'LH(mIU/mL)', 'FSH/LH', 'Hip(inch)', 'Waist(inch)', 'Waist:Hip Ratio',\n",
              "       'TSH (mIU/L)', 'AMH(ng/mL)', 'PRL(ng/mL)', 'Vit D3 (ng/mL)',\n",
              "       'PRG(ng/mL)', 'RBS(mg/dl)', 'Weight gain(Y/N)', 'hair growth(Y/N)',\n",
              "       'Skin darkening (Y/N)', 'Hair loss(Y/N)', 'Pimples(Y/N)',\n",
              "       'Fast food (Y/N)', 'Reg.Exercise(Y/N)', 'BP _Systolic (mmHg)',\n",
              "       'BP _Diastolic (mmHg)', 'Follicle No. (L)', 'Follicle No. (R)',\n",
              "       'Avg. F size (L) (mm)', 'Avg. F size (R) (mm)', 'Endometrium (mm)'],\n",
              "      dtype='object')"
            ]
          },
          "metadata": {},
          "execution_count": 86
        }
      ],
      "source": [
        " df.reset_index().columns"
      ]
    },
    {
      "cell_type": "markdown",
      "id": "650d4480",
      "metadata": {
        "id": "650d4480"
      },
      "source": [
        "Summary Statistics"
      ]
    },
    {
      "cell_type": "code",
      "execution_count": 87,
      "id": "6d67475c",
      "metadata": {
        "colab": {
          "base_uri": "https://localhost:8080/",
          "height": 1000
        },
        "id": "6d67475c",
        "outputId": "1a51de98-12d9-4305-f611-175d81067a47"
      },
      "outputs": [
        {
          "output_type": "execute_result",
          "data": {
            "text/plain": [
              "                        count        mean           std         min  \\\n",
              "Sl. No                  541.0  271.000000  1.563175e+02    1.000000   \n",
              "Patient File No.        541.0  271.000000  1.563175e+02    1.000000   \n",
              "PCOS (Y/N)              541.0    0.327172  4.696148e-01    0.000000   \n",
              " Age (yrs)              541.0   31.430684  5.411006e+00   20.000000   \n",
              "Weight (Kg)             541.0   59.637153  1.102829e+01   31.000000   \n",
              "Height(Cm)              541.0  156.484835  6.033545e+00  137.000000   \n",
              "BMI                     541.0   24.311285  4.056399e+00   12.417882   \n",
              "Blood Group             541.0   13.802218  1.840812e+00   11.000000   \n",
              "Pulse rate(bpm)         541.0   73.247689  4.430285e+00   13.000000   \n",
              "RR (breaths/min)        541.0   19.243993  1.688629e+00   16.000000   \n",
              "Hb(g/dl)                541.0   11.160037  8.669045e-01    8.500000   \n",
              "Cycle(R/I)              541.0    2.560074  9.019501e-01    2.000000   \n",
              "Cycle length(days)      541.0    4.940850  1.492020e+00    0.000000   \n",
              "Marraige Status (Yrs)   541.0    7.000000  0.000000e+00    7.000000   \n",
              "Pregnant(Y/N)           541.0    0.380776  4.860271e-01    0.000000   \n",
              "No. of aborptions       541.0    0.288355  6.925752e-01    0.000000   \n",
              "  I   beta-HCG(mIU/mL)  541.0  664.549235  3.348921e+03    1.300000   \n",
              "II    beta-HCG(mIU/mL)  541.0    1.990000  2.222501e-16    1.990000   \n",
              "FSH(mIU/mL)             541.0   14.601832  2.170221e+02    0.210000   \n",
              "LH(mIU/mL)              541.0    6.469919  8.667326e+01    0.020000   \n",
              "FSH/LH                  541.0    6.904831  6.069182e+01    0.002146   \n",
              "Hip(inch)               541.0   37.992606  3.967920e+00   26.000000   \n",
              "Waist(inch)             541.0   33.841035  3.596894e+00   24.000000   \n",
              "Waist:Hip Ratio         541.0    0.891895  4.632567e-02    0.755556   \n",
              "TSH (mIU/L)             541.0    2.981281  3.755532e+00    0.040000   \n",
              "AMH(ng/mL)              541.0    3.700000  4.445002e-16    3.700000   \n",
              "PRL(ng/mL)              541.0   24.321497  1.497039e+01    0.400000   \n",
              "Vit D3 (ng/mL)          541.0   49.915874  3.462066e+02    0.000000   \n",
              "PRG(ng/mL)              541.0    0.610945  3.808853e+00    0.047000   \n",
              "RBS(mg/dl)              541.0   99.835860  1.855930e+01   60.000000   \n",
              "Weight gain(Y/N)        541.0    0.377079  4.851036e-01    0.000000   \n",
              "hair growth(Y/N)        541.0    0.273567  4.462021e-01    0.000000   \n",
              "Skin darkening (Y/N)    541.0    0.306839  4.616089e-01    0.000000   \n",
              "Hair loss(Y/N)          541.0    0.452865  4.982340e-01    0.000000   \n",
              "Pimples(Y/N)            541.0    0.489834  5.003593e-01    0.000000   \n",
              "Fast food (Y/N)         541.0    0.513863  5.002703e-01    0.000000   \n",
              "Reg.Exercise(Y/N)       541.0    0.247689  4.320700e-01    0.000000   \n",
              "BP _Systolic (mmHg)     541.0  114.661738  7.384556e+00   12.000000   \n",
              "BP _Diastolic (mmHg)    541.0   76.927911  5.574112e+00    8.000000   \n",
              "Follicle No. (L)        541.0    6.129390  4.229294e+00    0.000000   \n",
              "Follicle No. (R)        541.0    6.641405  4.436889e+00    0.000000   \n",
              "Avg. F size (L) (mm)    541.0   15.018115  3.566839e+00    0.000000   \n",
              "Avg. F size (R) (mm)    541.0   15.451701  3.318848e+00    0.000000   \n",
              "Endometrium (mm)        541.0    8.475915  2.165381e+00    0.000000   \n",
              "\n",
              "                               25%         50%         75%           max  \n",
              "Sl. No                  136.000000  271.000000  406.000000    541.000000  \n",
              "Patient File No.        136.000000  271.000000  406.000000    541.000000  \n",
              "PCOS (Y/N)                0.000000    0.000000    1.000000      1.000000  \n",
              " Age (yrs)               28.000000   31.000000   35.000000     48.000000  \n",
              "Weight (Kg)              52.000000   59.000000   65.000000    108.000000  \n",
              "Height(Cm)              152.000000  156.000000  160.000000    180.000000  \n",
              "BMI                      21.641274   24.238227   26.634958     38.900000  \n",
              "Blood Group              13.000000   14.000000   15.000000     18.000000  \n",
              "Pulse rate(bpm)          72.000000   72.000000   74.000000     82.000000  \n",
              "RR (breaths/min)         18.000000   18.000000   20.000000     28.000000  \n",
              "Hb(g/dl)                 10.500000   11.000000   11.700000     14.800000  \n",
              "Cycle(R/I)                2.000000    2.000000    4.000000      5.000000  \n",
              "Cycle length(days)        4.000000    5.000000    5.000000     12.000000  \n",
              "Marraige Status (Yrs)     7.000000    7.000000    7.000000      7.000000  \n",
              "Pregnant(Y/N)             0.000000    0.000000    1.000000      1.000000  \n",
              "No. of aborptions         0.000000    0.000000    0.000000      5.000000  \n",
              "  I   beta-HCG(mIU/mL)    1.990000   20.000000  297.210000  32460.970000  \n",
              "II    beta-HCG(mIU/mL)    1.990000    1.990000    1.990000      1.990000  \n",
              "FSH(mIU/mL)               3.300000    4.850000    6.410000   5052.000000  \n",
              "LH(mIU/mL)                1.020000    2.300000    3.680000   2018.000000  \n",
              "FSH/LH                    1.416244    2.169231    3.959184   1372.826087  \n",
              "Hip(inch)                36.000000   38.000000   40.000000     48.000000  \n",
              "Waist(inch)              32.000000   34.000000   36.000000     47.000000  \n",
              "Waist:Hip Ratio           0.857143    0.894737    0.928571      0.979167  \n",
              "TSH (mIU/L)               1.480000    2.260000    3.570000     65.000000  \n",
              "AMH(ng/mL)                3.700000    3.700000    3.700000      3.700000  \n",
              "PRL(ng/mL)               14.520000   21.920000   29.890000    128.240000  \n",
              "Vit D3 (ng/mL)           20.800000   25.900000   34.500000   6014.660000  \n",
              "PRG(ng/mL)                0.250000    0.320000    0.450000     85.000000  \n",
              "RBS(mg/dl)               92.000000  100.000000  107.000000    350.000000  \n",
              "Weight gain(Y/N)          0.000000    0.000000    1.000000      1.000000  \n",
              "hair growth(Y/N)          0.000000    0.000000    1.000000      1.000000  \n",
              "Skin darkening (Y/N)      0.000000    0.000000    1.000000      1.000000  \n",
              "Hair loss(Y/N)            0.000000    0.000000    1.000000      1.000000  \n",
              "Pimples(Y/N)              0.000000    0.000000    1.000000      1.000000  \n",
              "Fast food (Y/N)           0.000000    1.000000    1.000000      1.000000  \n",
              "Reg.Exercise(Y/N)         0.000000    0.000000    0.000000      1.000000  \n",
              "BP _Systolic (mmHg)     110.000000  110.000000  120.000000    140.000000  \n",
              "BP _Diastolic (mmHg)     70.000000   80.000000   80.000000    100.000000  \n",
              "Follicle No. (L)          3.000000    5.000000    9.000000     22.000000  \n",
              "Follicle No. (R)          3.000000    6.000000   10.000000     20.000000  \n",
              "Avg. F size (L) (mm)     13.000000   15.000000   18.000000     24.000000  \n",
              "Avg. F size (R) (mm)     13.000000   16.000000   18.000000     24.000000  \n",
              "Endometrium (mm)          7.000000    8.500000    9.800000     18.000000  "
            ],
            "text/html": [
              "\n",
              "  <div id=\"df-40088fcd-63c3-4e3a-9d75-568d2c757235\">\n",
              "    <div class=\"colab-df-container\">\n",
              "      <div>\n",
              "<style scoped>\n",
              "    .dataframe tbody tr th:only-of-type {\n",
              "        vertical-align: middle;\n",
              "    }\n",
              "\n",
              "    .dataframe tbody tr th {\n",
              "        vertical-align: top;\n",
              "    }\n",
              "\n",
              "    .dataframe thead th {\n",
              "        text-align: right;\n",
              "    }\n",
              "</style>\n",
              "<table border=\"1\" class=\"dataframe\">\n",
              "  <thead>\n",
              "    <tr style=\"text-align: right;\">\n",
              "      <th></th>\n",
              "      <th>count</th>\n",
              "      <th>mean</th>\n",
              "      <th>std</th>\n",
              "      <th>min</th>\n",
              "      <th>25%</th>\n",
              "      <th>50%</th>\n",
              "      <th>75%</th>\n",
              "      <th>max</th>\n",
              "    </tr>\n",
              "  </thead>\n",
              "  <tbody>\n",
              "    <tr>\n",
              "      <th>Sl. No</th>\n",
              "      <td>541.0</td>\n",
              "      <td>271.000000</td>\n",
              "      <td>1.563175e+02</td>\n",
              "      <td>1.000000</td>\n",
              "      <td>136.000000</td>\n",
              "      <td>271.000000</td>\n",
              "      <td>406.000000</td>\n",
              "      <td>541.000000</td>\n",
              "    </tr>\n",
              "    <tr>\n",
              "      <th>Patient File No.</th>\n",
              "      <td>541.0</td>\n",
              "      <td>271.000000</td>\n",
              "      <td>1.563175e+02</td>\n",
              "      <td>1.000000</td>\n",
              "      <td>136.000000</td>\n",
              "      <td>271.000000</td>\n",
              "      <td>406.000000</td>\n",
              "      <td>541.000000</td>\n",
              "    </tr>\n",
              "    <tr>\n",
              "      <th>PCOS (Y/N)</th>\n",
              "      <td>541.0</td>\n",
              "      <td>0.327172</td>\n",
              "      <td>4.696148e-01</td>\n",
              "      <td>0.000000</td>\n",
              "      <td>0.000000</td>\n",
              "      <td>0.000000</td>\n",
              "      <td>1.000000</td>\n",
              "      <td>1.000000</td>\n",
              "    </tr>\n",
              "    <tr>\n",
              "      <th>Age (yrs)</th>\n",
              "      <td>541.0</td>\n",
              "      <td>31.430684</td>\n",
              "      <td>5.411006e+00</td>\n",
              "      <td>20.000000</td>\n",
              "      <td>28.000000</td>\n",
              "      <td>31.000000</td>\n",
              "      <td>35.000000</td>\n",
              "      <td>48.000000</td>\n",
              "    </tr>\n",
              "    <tr>\n",
              "      <th>Weight (Kg)</th>\n",
              "      <td>541.0</td>\n",
              "      <td>59.637153</td>\n",
              "      <td>1.102829e+01</td>\n",
              "      <td>31.000000</td>\n",
              "      <td>52.000000</td>\n",
              "      <td>59.000000</td>\n",
              "      <td>65.000000</td>\n",
              "      <td>108.000000</td>\n",
              "    </tr>\n",
              "    <tr>\n",
              "      <th>Height(Cm)</th>\n",
              "      <td>541.0</td>\n",
              "      <td>156.484835</td>\n",
              "      <td>6.033545e+00</td>\n",
              "      <td>137.000000</td>\n",
              "      <td>152.000000</td>\n",
              "      <td>156.000000</td>\n",
              "      <td>160.000000</td>\n",
              "      <td>180.000000</td>\n",
              "    </tr>\n",
              "    <tr>\n",
              "      <th>BMI</th>\n",
              "      <td>541.0</td>\n",
              "      <td>24.311285</td>\n",
              "      <td>4.056399e+00</td>\n",
              "      <td>12.417882</td>\n",
              "      <td>21.641274</td>\n",
              "      <td>24.238227</td>\n",
              "      <td>26.634958</td>\n",
              "      <td>38.900000</td>\n",
              "    </tr>\n",
              "    <tr>\n",
              "      <th>Blood Group</th>\n",
              "      <td>541.0</td>\n",
              "      <td>13.802218</td>\n",
              "      <td>1.840812e+00</td>\n",
              "      <td>11.000000</td>\n",
              "      <td>13.000000</td>\n",
              "      <td>14.000000</td>\n",
              "      <td>15.000000</td>\n",
              "      <td>18.000000</td>\n",
              "    </tr>\n",
              "    <tr>\n",
              "      <th>Pulse rate(bpm)</th>\n",
              "      <td>541.0</td>\n",
              "      <td>73.247689</td>\n",
              "      <td>4.430285e+00</td>\n",
              "      <td>13.000000</td>\n",
              "      <td>72.000000</td>\n",
              "      <td>72.000000</td>\n",
              "      <td>74.000000</td>\n",
              "      <td>82.000000</td>\n",
              "    </tr>\n",
              "    <tr>\n",
              "      <th>RR (breaths/min)</th>\n",
              "      <td>541.0</td>\n",
              "      <td>19.243993</td>\n",
              "      <td>1.688629e+00</td>\n",
              "      <td>16.000000</td>\n",
              "      <td>18.000000</td>\n",
              "      <td>18.000000</td>\n",
              "      <td>20.000000</td>\n",
              "      <td>28.000000</td>\n",
              "    </tr>\n",
              "    <tr>\n",
              "      <th>Hb(g/dl)</th>\n",
              "      <td>541.0</td>\n",
              "      <td>11.160037</td>\n",
              "      <td>8.669045e-01</td>\n",
              "      <td>8.500000</td>\n",
              "      <td>10.500000</td>\n",
              "      <td>11.000000</td>\n",
              "      <td>11.700000</td>\n",
              "      <td>14.800000</td>\n",
              "    </tr>\n",
              "    <tr>\n",
              "      <th>Cycle(R/I)</th>\n",
              "      <td>541.0</td>\n",
              "      <td>2.560074</td>\n",
              "      <td>9.019501e-01</td>\n",
              "      <td>2.000000</td>\n",
              "      <td>2.000000</td>\n",
              "      <td>2.000000</td>\n",
              "      <td>4.000000</td>\n",
              "      <td>5.000000</td>\n",
              "    </tr>\n",
              "    <tr>\n",
              "      <th>Cycle length(days)</th>\n",
              "      <td>541.0</td>\n",
              "      <td>4.940850</td>\n",
              "      <td>1.492020e+00</td>\n",
              "      <td>0.000000</td>\n",
              "      <td>4.000000</td>\n",
              "      <td>5.000000</td>\n",
              "      <td>5.000000</td>\n",
              "      <td>12.000000</td>\n",
              "    </tr>\n",
              "    <tr>\n",
              "      <th>Marraige Status (Yrs)</th>\n",
              "      <td>541.0</td>\n",
              "      <td>7.000000</td>\n",
              "      <td>0.000000e+00</td>\n",
              "      <td>7.000000</td>\n",
              "      <td>7.000000</td>\n",
              "      <td>7.000000</td>\n",
              "      <td>7.000000</td>\n",
              "      <td>7.000000</td>\n",
              "    </tr>\n",
              "    <tr>\n",
              "      <th>Pregnant(Y/N)</th>\n",
              "      <td>541.0</td>\n",
              "      <td>0.380776</td>\n",
              "      <td>4.860271e-01</td>\n",
              "      <td>0.000000</td>\n",
              "      <td>0.000000</td>\n",
              "      <td>0.000000</td>\n",
              "      <td>1.000000</td>\n",
              "      <td>1.000000</td>\n",
              "    </tr>\n",
              "    <tr>\n",
              "      <th>No. of aborptions</th>\n",
              "      <td>541.0</td>\n",
              "      <td>0.288355</td>\n",
              "      <td>6.925752e-01</td>\n",
              "      <td>0.000000</td>\n",
              "      <td>0.000000</td>\n",
              "      <td>0.000000</td>\n",
              "      <td>0.000000</td>\n",
              "      <td>5.000000</td>\n",
              "    </tr>\n",
              "    <tr>\n",
              "      <th>I   beta-HCG(mIU/mL)</th>\n",
              "      <td>541.0</td>\n",
              "      <td>664.549235</td>\n",
              "      <td>3.348921e+03</td>\n",
              "      <td>1.300000</td>\n",
              "      <td>1.990000</td>\n",
              "      <td>20.000000</td>\n",
              "      <td>297.210000</td>\n",
              "      <td>32460.970000</td>\n",
              "    </tr>\n",
              "    <tr>\n",
              "      <th>II    beta-HCG(mIU/mL)</th>\n",
              "      <td>541.0</td>\n",
              "      <td>1.990000</td>\n",
              "      <td>2.222501e-16</td>\n",
              "      <td>1.990000</td>\n",
              "      <td>1.990000</td>\n",
              "      <td>1.990000</td>\n",
              "      <td>1.990000</td>\n",
              "      <td>1.990000</td>\n",
              "    </tr>\n",
              "    <tr>\n",
              "      <th>FSH(mIU/mL)</th>\n",
              "      <td>541.0</td>\n",
              "      <td>14.601832</td>\n",
              "      <td>2.170221e+02</td>\n",
              "      <td>0.210000</td>\n",
              "      <td>3.300000</td>\n",
              "      <td>4.850000</td>\n",
              "      <td>6.410000</td>\n",
              "      <td>5052.000000</td>\n",
              "    </tr>\n",
              "    <tr>\n",
              "      <th>LH(mIU/mL)</th>\n",
              "      <td>541.0</td>\n",
              "      <td>6.469919</td>\n",
              "      <td>8.667326e+01</td>\n",
              "      <td>0.020000</td>\n",
              "      <td>1.020000</td>\n",
              "      <td>2.300000</td>\n",
              "      <td>3.680000</td>\n",
              "      <td>2018.000000</td>\n",
              "    </tr>\n",
              "    <tr>\n",
              "      <th>FSH/LH</th>\n",
              "      <td>541.0</td>\n",
              "      <td>6.904831</td>\n",
              "      <td>6.069182e+01</td>\n",
              "      <td>0.002146</td>\n",
              "      <td>1.416244</td>\n",
              "      <td>2.169231</td>\n",
              "      <td>3.959184</td>\n",
              "      <td>1372.826087</td>\n",
              "    </tr>\n",
              "    <tr>\n",
              "      <th>Hip(inch)</th>\n",
              "      <td>541.0</td>\n",
              "      <td>37.992606</td>\n",
              "      <td>3.967920e+00</td>\n",
              "      <td>26.000000</td>\n",
              "      <td>36.000000</td>\n",
              "      <td>38.000000</td>\n",
              "      <td>40.000000</td>\n",
              "      <td>48.000000</td>\n",
              "    </tr>\n",
              "    <tr>\n",
              "      <th>Waist(inch)</th>\n",
              "      <td>541.0</td>\n",
              "      <td>33.841035</td>\n",
              "      <td>3.596894e+00</td>\n",
              "      <td>24.000000</td>\n",
              "      <td>32.000000</td>\n",
              "      <td>34.000000</td>\n",
              "      <td>36.000000</td>\n",
              "      <td>47.000000</td>\n",
              "    </tr>\n",
              "    <tr>\n",
              "      <th>Waist:Hip Ratio</th>\n",
              "      <td>541.0</td>\n",
              "      <td>0.891895</td>\n",
              "      <td>4.632567e-02</td>\n",
              "      <td>0.755556</td>\n",
              "      <td>0.857143</td>\n",
              "      <td>0.894737</td>\n",
              "      <td>0.928571</td>\n",
              "      <td>0.979167</td>\n",
              "    </tr>\n",
              "    <tr>\n",
              "      <th>TSH (mIU/L)</th>\n",
              "      <td>541.0</td>\n",
              "      <td>2.981281</td>\n",
              "      <td>3.755532e+00</td>\n",
              "      <td>0.040000</td>\n",
              "      <td>1.480000</td>\n",
              "      <td>2.260000</td>\n",
              "      <td>3.570000</td>\n",
              "      <td>65.000000</td>\n",
              "    </tr>\n",
              "    <tr>\n",
              "      <th>AMH(ng/mL)</th>\n",
              "      <td>541.0</td>\n",
              "      <td>3.700000</td>\n",
              "      <td>4.445002e-16</td>\n",
              "      <td>3.700000</td>\n",
              "      <td>3.700000</td>\n",
              "      <td>3.700000</td>\n",
              "      <td>3.700000</td>\n",
              "      <td>3.700000</td>\n",
              "    </tr>\n",
              "    <tr>\n",
              "      <th>PRL(ng/mL)</th>\n",
              "      <td>541.0</td>\n",
              "      <td>24.321497</td>\n",
              "      <td>1.497039e+01</td>\n",
              "      <td>0.400000</td>\n",
              "      <td>14.520000</td>\n",
              "      <td>21.920000</td>\n",
              "      <td>29.890000</td>\n",
              "      <td>128.240000</td>\n",
              "    </tr>\n",
              "    <tr>\n",
              "      <th>Vit D3 (ng/mL)</th>\n",
              "      <td>541.0</td>\n",
              "      <td>49.915874</td>\n",
              "      <td>3.462066e+02</td>\n",
              "      <td>0.000000</td>\n",
              "      <td>20.800000</td>\n",
              "      <td>25.900000</td>\n",
              "      <td>34.500000</td>\n",
              "      <td>6014.660000</td>\n",
              "    </tr>\n",
              "    <tr>\n",
              "      <th>PRG(ng/mL)</th>\n",
              "      <td>541.0</td>\n",
              "      <td>0.610945</td>\n",
              "      <td>3.808853e+00</td>\n",
              "      <td>0.047000</td>\n",
              "      <td>0.250000</td>\n",
              "      <td>0.320000</td>\n",
              "      <td>0.450000</td>\n",
              "      <td>85.000000</td>\n",
              "    </tr>\n",
              "    <tr>\n",
              "      <th>RBS(mg/dl)</th>\n",
              "      <td>541.0</td>\n",
              "      <td>99.835860</td>\n",
              "      <td>1.855930e+01</td>\n",
              "      <td>60.000000</td>\n",
              "      <td>92.000000</td>\n",
              "      <td>100.000000</td>\n",
              "      <td>107.000000</td>\n",
              "      <td>350.000000</td>\n",
              "    </tr>\n",
              "    <tr>\n",
              "      <th>Weight gain(Y/N)</th>\n",
              "      <td>541.0</td>\n",
              "      <td>0.377079</td>\n",
              "      <td>4.851036e-01</td>\n",
              "      <td>0.000000</td>\n",
              "      <td>0.000000</td>\n",
              "      <td>0.000000</td>\n",
              "      <td>1.000000</td>\n",
              "      <td>1.000000</td>\n",
              "    </tr>\n",
              "    <tr>\n",
              "      <th>hair growth(Y/N)</th>\n",
              "      <td>541.0</td>\n",
              "      <td>0.273567</td>\n",
              "      <td>4.462021e-01</td>\n",
              "      <td>0.000000</td>\n",
              "      <td>0.000000</td>\n",
              "      <td>0.000000</td>\n",
              "      <td>1.000000</td>\n",
              "      <td>1.000000</td>\n",
              "    </tr>\n",
              "    <tr>\n",
              "      <th>Skin darkening (Y/N)</th>\n",
              "      <td>541.0</td>\n",
              "      <td>0.306839</td>\n",
              "      <td>4.616089e-01</td>\n",
              "      <td>0.000000</td>\n",
              "      <td>0.000000</td>\n",
              "      <td>0.000000</td>\n",
              "      <td>1.000000</td>\n",
              "      <td>1.000000</td>\n",
              "    </tr>\n",
              "    <tr>\n",
              "      <th>Hair loss(Y/N)</th>\n",
              "      <td>541.0</td>\n",
              "      <td>0.452865</td>\n",
              "      <td>4.982340e-01</td>\n",
              "      <td>0.000000</td>\n",
              "      <td>0.000000</td>\n",
              "      <td>0.000000</td>\n",
              "      <td>1.000000</td>\n",
              "      <td>1.000000</td>\n",
              "    </tr>\n",
              "    <tr>\n",
              "      <th>Pimples(Y/N)</th>\n",
              "      <td>541.0</td>\n",
              "      <td>0.489834</td>\n",
              "      <td>5.003593e-01</td>\n",
              "      <td>0.000000</td>\n",
              "      <td>0.000000</td>\n",
              "      <td>0.000000</td>\n",
              "      <td>1.000000</td>\n",
              "      <td>1.000000</td>\n",
              "    </tr>\n",
              "    <tr>\n",
              "      <th>Fast food (Y/N)</th>\n",
              "      <td>541.0</td>\n",
              "      <td>0.513863</td>\n",
              "      <td>5.002703e-01</td>\n",
              "      <td>0.000000</td>\n",
              "      <td>0.000000</td>\n",
              "      <td>1.000000</td>\n",
              "      <td>1.000000</td>\n",
              "      <td>1.000000</td>\n",
              "    </tr>\n",
              "    <tr>\n",
              "      <th>Reg.Exercise(Y/N)</th>\n",
              "      <td>541.0</td>\n",
              "      <td>0.247689</td>\n",
              "      <td>4.320700e-01</td>\n",
              "      <td>0.000000</td>\n",
              "      <td>0.000000</td>\n",
              "      <td>0.000000</td>\n",
              "      <td>0.000000</td>\n",
              "      <td>1.000000</td>\n",
              "    </tr>\n",
              "    <tr>\n",
              "      <th>BP _Systolic (mmHg)</th>\n",
              "      <td>541.0</td>\n",
              "      <td>114.661738</td>\n",
              "      <td>7.384556e+00</td>\n",
              "      <td>12.000000</td>\n",
              "      <td>110.000000</td>\n",
              "      <td>110.000000</td>\n",
              "      <td>120.000000</td>\n",
              "      <td>140.000000</td>\n",
              "    </tr>\n",
              "    <tr>\n",
              "      <th>BP _Diastolic (mmHg)</th>\n",
              "      <td>541.0</td>\n",
              "      <td>76.927911</td>\n",
              "      <td>5.574112e+00</td>\n",
              "      <td>8.000000</td>\n",
              "      <td>70.000000</td>\n",
              "      <td>80.000000</td>\n",
              "      <td>80.000000</td>\n",
              "      <td>100.000000</td>\n",
              "    </tr>\n",
              "    <tr>\n",
              "      <th>Follicle No. (L)</th>\n",
              "      <td>541.0</td>\n",
              "      <td>6.129390</td>\n",
              "      <td>4.229294e+00</td>\n",
              "      <td>0.000000</td>\n",
              "      <td>3.000000</td>\n",
              "      <td>5.000000</td>\n",
              "      <td>9.000000</td>\n",
              "      <td>22.000000</td>\n",
              "    </tr>\n",
              "    <tr>\n",
              "      <th>Follicle No. (R)</th>\n",
              "      <td>541.0</td>\n",
              "      <td>6.641405</td>\n",
              "      <td>4.436889e+00</td>\n",
              "      <td>0.000000</td>\n",
              "      <td>3.000000</td>\n",
              "      <td>6.000000</td>\n",
              "      <td>10.000000</td>\n",
              "      <td>20.000000</td>\n",
              "    </tr>\n",
              "    <tr>\n",
              "      <th>Avg. F size (L) (mm)</th>\n",
              "      <td>541.0</td>\n",
              "      <td>15.018115</td>\n",
              "      <td>3.566839e+00</td>\n",
              "      <td>0.000000</td>\n",
              "      <td>13.000000</td>\n",
              "      <td>15.000000</td>\n",
              "      <td>18.000000</td>\n",
              "      <td>24.000000</td>\n",
              "    </tr>\n",
              "    <tr>\n",
              "      <th>Avg. F size (R) (mm)</th>\n",
              "      <td>541.0</td>\n",
              "      <td>15.451701</td>\n",
              "      <td>3.318848e+00</td>\n",
              "      <td>0.000000</td>\n",
              "      <td>13.000000</td>\n",
              "      <td>16.000000</td>\n",
              "      <td>18.000000</td>\n",
              "      <td>24.000000</td>\n",
              "    </tr>\n",
              "    <tr>\n",
              "      <th>Endometrium (mm)</th>\n",
              "      <td>541.0</td>\n",
              "      <td>8.475915</td>\n",
              "      <td>2.165381e+00</td>\n",
              "      <td>0.000000</td>\n",
              "      <td>7.000000</td>\n",
              "      <td>8.500000</td>\n",
              "      <td>9.800000</td>\n",
              "      <td>18.000000</td>\n",
              "    </tr>\n",
              "  </tbody>\n",
              "</table>\n",
              "</div>\n",
              "      <button class=\"colab-df-convert\" onclick=\"convertToInteractive('df-40088fcd-63c3-4e3a-9d75-568d2c757235')\"\n",
              "              title=\"Convert this dataframe to an interactive table.\"\n",
              "              style=\"display:none;\">\n",
              "        \n",
              "  <svg xmlns=\"http://www.w3.org/2000/svg\" height=\"24px\"viewBox=\"0 0 24 24\"\n",
              "       width=\"24px\">\n",
              "    <path d=\"M0 0h24v24H0V0z\" fill=\"none\"/>\n",
              "    <path d=\"M18.56 5.44l.94 2.06.94-2.06 2.06-.94-2.06-.94-.94-2.06-.94 2.06-2.06.94zm-11 1L8.5 8.5l.94-2.06 2.06-.94-2.06-.94L8.5 2.5l-.94 2.06-2.06.94zm10 10l.94 2.06.94-2.06 2.06-.94-2.06-.94-.94-2.06-.94 2.06-2.06.94z\"/><path d=\"M17.41 7.96l-1.37-1.37c-.4-.4-.92-.59-1.43-.59-.52 0-1.04.2-1.43.59L10.3 9.45l-7.72 7.72c-.78.78-.78 2.05 0 2.83L4 21.41c.39.39.9.59 1.41.59.51 0 1.02-.2 1.41-.59l7.78-7.78 2.81-2.81c.8-.78.8-2.07 0-2.86zM5.41 20L4 18.59l7.72-7.72 1.47 1.35L5.41 20z\"/>\n",
              "  </svg>\n",
              "      </button>\n",
              "      \n",
              "  <style>\n",
              "    .colab-df-container {\n",
              "      display:flex;\n",
              "      flex-wrap:wrap;\n",
              "      gap: 12px;\n",
              "    }\n",
              "\n",
              "    .colab-df-convert {\n",
              "      background-color: #E8F0FE;\n",
              "      border: none;\n",
              "      border-radius: 50%;\n",
              "      cursor: pointer;\n",
              "      display: none;\n",
              "      fill: #1967D2;\n",
              "      height: 32px;\n",
              "      padding: 0 0 0 0;\n",
              "      width: 32px;\n",
              "    }\n",
              "\n",
              "    .colab-df-convert:hover {\n",
              "      background-color: #E2EBFA;\n",
              "      box-shadow: 0px 1px 2px rgba(60, 64, 67, 0.3), 0px 1px 3px 1px rgba(60, 64, 67, 0.15);\n",
              "      fill: #174EA6;\n",
              "    }\n",
              "\n",
              "    [theme=dark] .colab-df-convert {\n",
              "      background-color: #3B4455;\n",
              "      fill: #D2E3FC;\n",
              "    }\n",
              "\n",
              "    [theme=dark] .colab-df-convert:hover {\n",
              "      background-color: #434B5C;\n",
              "      box-shadow: 0px 1px 3px 1px rgba(0, 0, 0, 0.15);\n",
              "      filter: drop-shadow(0px 1px 2px rgba(0, 0, 0, 0.3));\n",
              "      fill: #FFFFFF;\n",
              "    }\n",
              "  </style>\n",
              "\n",
              "      <script>\n",
              "        const buttonEl =\n",
              "          document.querySelector('#df-40088fcd-63c3-4e3a-9d75-568d2c757235 button.colab-df-convert');\n",
              "        buttonEl.style.display =\n",
              "          google.colab.kernel.accessAllowed ? 'block' : 'none';\n",
              "\n",
              "        async function convertToInteractive(key) {\n",
              "          const element = document.querySelector('#df-40088fcd-63c3-4e3a-9d75-568d2c757235');\n",
              "          const dataTable =\n",
              "            await google.colab.kernel.invokeFunction('convertToInteractive',\n",
              "                                                     [key], {});\n",
              "          if (!dataTable) return;\n",
              "\n",
              "          const docLinkHtml = 'Like what you see? Visit the ' +\n",
              "            '<a target=\"_blank\" href=https://colab.research.google.com/notebooks/data_table.ipynb>data table notebook</a>'\n",
              "            + ' to learn more about interactive tables.';\n",
              "          element.innerHTML = '';\n",
              "          dataTable['output_type'] = 'display_data';\n",
              "          await google.colab.output.renderOutput(dataTable, element);\n",
              "          const docLink = document.createElement('div');\n",
              "          docLink.innerHTML = docLinkHtml;\n",
              "          element.appendChild(docLink);\n",
              "        }\n",
              "      </script>\n",
              "    </div>\n",
              "  </div>\n",
              "  "
            ]
          },
          "metadata": {},
          "execution_count": 87
        }
      ],
      "source": [
        "df.describe().transpose()"
      ]
    },
    {
      "cell_type": "code",
      "execution_count": 88,
      "id": "4563fadf",
      "metadata": {
        "colab": {
          "base_uri": "https://localhost:8080/",
          "height": 289
        },
        "id": "4563fadf",
        "outputId": "c12dd42c-db33-4b82-b97e-5645c3e69cdc"
      },
      "outputs": [
        {
          "output_type": "execute_result",
          "data": {
            "text/plain": [
              "              I   beta-HCG(mIU/mL)   Age (yrs)  AMH(ng/mL)  \\\n",
              "PCOS (Y/N)                                                   \n",
              "0.0                     728.982437   32.065934         3.7   \n",
              "1.0                     532.042537   30.124294         3.7   \n",
              "\n",
              "            Avg. F size (L) (mm)  Avg. F size (R) (mm)        BMI  \\\n",
              "PCOS (Y/N)                                                          \n",
              "0.0                    14.687637             15.225824  23.747397   \n",
              "1.0                    15.697740             15.916215  25.470919   \n",
              "\n",
              "            BP _Diastolic (mmHg)  BP _Systolic (mmHg)  Blood Group  \\\n",
              "PCOS (Y/N)                                                           \n",
              "0.0                    76.780220           114.620879    13.755495   \n",
              "1.0                    77.231638           114.745763    13.898305   \n",
              "\n",
              "            Cycle length(days)  ...  Reg.Exercise(Y/N)  Skin darkening (Y/N)  \\\n",
              "PCOS (Y/N)                      ...                                            \n",
              "0.0                   5.126374  ...           0.228022              0.153846   \n",
              "1.0                   4.559322  ...           0.288136              0.621469   \n",
              "\n",
              "                Sl. No  TSH (mIU/L)  Vit D3 (ng/mL)  Waist(inch)  \\\n",
              "PCOS (Y/N)                                                         \n",
              "0.0         264.357143     3.007810       29.295005    33.428571   \n",
              "1.0         284.661017     2.926723       92.322633    34.689266   \n",
              "\n",
              "            Waist:Hip Ratio  Weight (Kg)  Weight gain(Y/N)  hair growth(Y/N)  \n",
              "PCOS (Y/N)                                                                    \n",
              "0.0                0.891495    58.008791          0.228022          0.129121  \n",
              "1.0                0.892717    62.985876          0.683616          0.570621  \n",
              "\n",
              "[2 rows x 43 columns]"
            ],
            "text/html": [
              "\n",
              "  <div id=\"df-39e11b5f-e205-4c59-a4e4-b1fcfb5cfc50\">\n",
              "    <div class=\"colab-df-container\">\n",
              "      <div>\n",
              "<style scoped>\n",
              "    .dataframe tbody tr th:only-of-type {\n",
              "        vertical-align: middle;\n",
              "    }\n",
              "\n",
              "    .dataframe tbody tr th {\n",
              "        vertical-align: top;\n",
              "    }\n",
              "\n",
              "    .dataframe thead th {\n",
              "        text-align: right;\n",
              "    }\n",
              "</style>\n",
              "<table border=\"1\" class=\"dataframe\">\n",
              "  <thead>\n",
              "    <tr style=\"text-align: right;\">\n",
              "      <th></th>\n",
              "      <th>I   beta-HCG(mIU/mL)</th>\n",
              "      <th>Age (yrs)</th>\n",
              "      <th>AMH(ng/mL)</th>\n",
              "      <th>Avg. F size (L) (mm)</th>\n",
              "      <th>Avg. F size (R) (mm)</th>\n",
              "      <th>BMI</th>\n",
              "      <th>BP _Diastolic (mmHg)</th>\n",
              "      <th>BP _Systolic (mmHg)</th>\n",
              "      <th>Blood Group</th>\n",
              "      <th>Cycle length(days)</th>\n",
              "      <th>...</th>\n",
              "      <th>Reg.Exercise(Y/N)</th>\n",
              "      <th>Skin darkening (Y/N)</th>\n",
              "      <th>Sl. No</th>\n",
              "      <th>TSH (mIU/L)</th>\n",
              "      <th>Vit D3 (ng/mL)</th>\n",
              "      <th>Waist(inch)</th>\n",
              "      <th>Waist:Hip Ratio</th>\n",
              "      <th>Weight (Kg)</th>\n",
              "      <th>Weight gain(Y/N)</th>\n",
              "      <th>hair growth(Y/N)</th>\n",
              "    </tr>\n",
              "    <tr>\n",
              "      <th>PCOS (Y/N)</th>\n",
              "      <th></th>\n",
              "      <th></th>\n",
              "      <th></th>\n",
              "      <th></th>\n",
              "      <th></th>\n",
              "      <th></th>\n",
              "      <th></th>\n",
              "      <th></th>\n",
              "      <th></th>\n",
              "      <th></th>\n",
              "      <th></th>\n",
              "      <th></th>\n",
              "      <th></th>\n",
              "      <th></th>\n",
              "      <th></th>\n",
              "      <th></th>\n",
              "      <th></th>\n",
              "      <th></th>\n",
              "      <th></th>\n",
              "      <th></th>\n",
              "      <th></th>\n",
              "    </tr>\n",
              "  </thead>\n",
              "  <tbody>\n",
              "    <tr>\n",
              "      <th>0.0</th>\n",
              "      <td>728.982437</td>\n",
              "      <td>32.065934</td>\n",
              "      <td>3.7</td>\n",
              "      <td>14.687637</td>\n",
              "      <td>15.225824</td>\n",
              "      <td>23.747397</td>\n",
              "      <td>76.780220</td>\n",
              "      <td>114.620879</td>\n",
              "      <td>13.755495</td>\n",
              "      <td>5.126374</td>\n",
              "      <td>...</td>\n",
              "      <td>0.228022</td>\n",
              "      <td>0.153846</td>\n",
              "      <td>264.357143</td>\n",
              "      <td>3.007810</td>\n",
              "      <td>29.295005</td>\n",
              "      <td>33.428571</td>\n",
              "      <td>0.891495</td>\n",
              "      <td>58.008791</td>\n",
              "      <td>0.228022</td>\n",
              "      <td>0.129121</td>\n",
              "    </tr>\n",
              "    <tr>\n",
              "      <th>1.0</th>\n",
              "      <td>532.042537</td>\n",
              "      <td>30.124294</td>\n",
              "      <td>3.7</td>\n",
              "      <td>15.697740</td>\n",
              "      <td>15.916215</td>\n",
              "      <td>25.470919</td>\n",
              "      <td>77.231638</td>\n",
              "      <td>114.745763</td>\n",
              "      <td>13.898305</td>\n",
              "      <td>4.559322</td>\n",
              "      <td>...</td>\n",
              "      <td>0.288136</td>\n",
              "      <td>0.621469</td>\n",
              "      <td>284.661017</td>\n",
              "      <td>2.926723</td>\n",
              "      <td>92.322633</td>\n",
              "      <td>34.689266</td>\n",
              "      <td>0.892717</td>\n",
              "      <td>62.985876</td>\n",
              "      <td>0.683616</td>\n",
              "      <td>0.570621</td>\n",
              "    </tr>\n",
              "  </tbody>\n",
              "</table>\n",
              "<p>2 rows × 43 columns</p>\n",
              "</div>\n",
              "      <button class=\"colab-df-convert\" onclick=\"convertToInteractive('df-39e11b5f-e205-4c59-a4e4-b1fcfb5cfc50')\"\n",
              "              title=\"Convert this dataframe to an interactive table.\"\n",
              "              style=\"display:none;\">\n",
              "        \n",
              "  <svg xmlns=\"http://www.w3.org/2000/svg\" height=\"24px\"viewBox=\"0 0 24 24\"\n",
              "       width=\"24px\">\n",
              "    <path d=\"M0 0h24v24H0V0z\" fill=\"none\"/>\n",
              "    <path d=\"M18.56 5.44l.94 2.06.94-2.06 2.06-.94-2.06-.94-.94-2.06-.94 2.06-2.06.94zm-11 1L8.5 8.5l.94-2.06 2.06-.94-2.06-.94L8.5 2.5l-.94 2.06-2.06.94zm10 10l.94 2.06.94-2.06 2.06-.94-2.06-.94-.94-2.06-.94 2.06-2.06.94z\"/><path d=\"M17.41 7.96l-1.37-1.37c-.4-.4-.92-.59-1.43-.59-.52 0-1.04.2-1.43.59L10.3 9.45l-7.72 7.72c-.78.78-.78 2.05 0 2.83L4 21.41c.39.39.9.59 1.41.59.51 0 1.02-.2 1.41-.59l7.78-7.78 2.81-2.81c.8-.78.8-2.07 0-2.86zM5.41 20L4 18.59l7.72-7.72 1.47 1.35L5.41 20z\"/>\n",
              "  </svg>\n",
              "      </button>\n",
              "      \n",
              "  <style>\n",
              "    .colab-df-container {\n",
              "      display:flex;\n",
              "      flex-wrap:wrap;\n",
              "      gap: 12px;\n",
              "    }\n",
              "\n",
              "    .colab-df-convert {\n",
              "      background-color: #E8F0FE;\n",
              "      border: none;\n",
              "      border-radius: 50%;\n",
              "      cursor: pointer;\n",
              "      display: none;\n",
              "      fill: #1967D2;\n",
              "      height: 32px;\n",
              "      padding: 0 0 0 0;\n",
              "      width: 32px;\n",
              "    }\n",
              "\n",
              "    .colab-df-convert:hover {\n",
              "      background-color: #E2EBFA;\n",
              "      box-shadow: 0px 1px 2px rgba(60, 64, 67, 0.3), 0px 1px 3px 1px rgba(60, 64, 67, 0.15);\n",
              "      fill: #174EA6;\n",
              "    }\n",
              "\n",
              "    [theme=dark] .colab-df-convert {\n",
              "      background-color: #3B4455;\n",
              "      fill: #D2E3FC;\n",
              "    }\n",
              "\n",
              "    [theme=dark] .colab-df-convert:hover {\n",
              "      background-color: #434B5C;\n",
              "      box-shadow: 0px 1px 3px 1px rgba(0, 0, 0, 0.15);\n",
              "      filter: drop-shadow(0px 1px 2px rgba(0, 0, 0, 0.3));\n",
              "      fill: #FFFFFF;\n",
              "    }\n",
              "  </style>\n",
              "\n",
              "      <script>\n",
              "        const buttonEl =\n",
              "          document.querySelector('#df-39e11b5f-e205-4c59-a4e4-b1fcfb5cfc50 button.colab-df-convert');\n",
              "        buttonEl.style.display =\n",
              "          google.colab.kernel.accessAllowed ? 'block' : 'none';\n",
              "\n",
              "        async function convertToInteractive(key) {\n",
              "          const element = document.querySelector('#df-39e11b5f-e205-4c59-a4e4-b1fcfb5cfc50');\n",
              "          const dataTable =\n",
              "            await google.colab.kernel.invokeFunction('convertToInteractive',\n",
              "                                                     [key], {});\n",
              "          if (!dataTable) return;\n",
              "\n",
              "          const docLinkHtml = 'Like what you see? Visit the ' +\n",
              "            '<a target=\"_blank\" href=https://colab.research.google.com/notebooks/data_table.ipynb>data table notebook</a>'\n",
              "            + ' to learn more about interactive tables.';\n",
              "          element.innerHTML = '';\n",
              "          dataTable['output_type'] = 'display_data';\n",
              "          await google.colab.output.renderOutput(dataTable, element);\n",
              "          const docLink = document.createElement('div');\n",
              "          docLink.innerHTML = docLinkHtml;\n",
              "          element.appendChild(docLink);\n",
              "        }\n",
              "      </script>\n",
              "    </div>\n",
              "  </div>\n",
              "  "
            ]
          },
          "metadata": {},
          "execution_count": 88
        }
      ],
      "source": [
        "df.pivot_table(index='PCOS (Y/N)')"
      ]
    },
    {
      "cell_type": "code",
      "execution_count": 89,
      "id": "5a8ae6d1",
      "metadata": {
        "colab": {
          "base_uri": "https://localhost:8080/"
        },
        "id": "5a8ae6d1",
        "outputId": "4cd64cd4-0c88-435d-8a91-c6c7296902e6"
      },
      "outputs": [
        {
          "output_type": "execute_result",
          "data": {
            "text/plain": [
              "0.0    364\n",
              "1.0    177\n",
              "Name: PCOS (Y/N), dtype: int64"
            ]
          },
          "metadata": {},
          "execution_count": 89
        }
      ],
      "source": [
        "# Target Value Count\n",
        "df['PCOS (Y/N)'].value_counts()"
      ]
    },
    {
      "cell_type": "code",
      "execution_count": 90,
      "id": "35a14b99",
      "metadata": {
        "colab": {
          "base_uri": "https://localhost:8080/",
          "height": 271
        },
        "id": "35a14b99",
        "outputId": "cc6e2aa0-47b3-4fc7-c819-61ae95460ee6"
      },
      "outputs": [
        {
          "output_type": "display_data",
          "data": {
            "text/plain": [
              "<Figure size 432x288 with 1 Axes>"
            ],
            "image/png": "[encoded data removed]"
          },
          "metadata": {
            "needs_background": "light"
          }
        }
      ],
      "source": [
        "# Plot the target variable\n",
        "df['PCOS (Y/N)'].value_counts().plot.bar();"
      ]
    },
    {
      "cell_type": "code",
      "execution_count": null,
      "id": "7032f1e4",
      "metadata": {
        "id": "7032f1e4"
      },
      "outputs": [],
      "source": [
        "# Pip install sweetviz "
      ]
    },
    {
      "cell_type": "code",
      "execution_count": null,
      "id": "6ecd344c",
      "metadata": {
        "colab": {
          "referenced_widgets": [
            "bc0a63a19c394121924956597249498b"
          ]
        },
        "id": "6ecd344c",
        "outputId": "5044bc3b-20f9-4d7a-a914-2c7b1b28a542"
      },
      "outputs": [
        {
          "data": {
            "application/vnd.jupyter.widget-view+json": {
              "model_id": "bc0a63a19c394121924956597249498b",
              "version_major": 2,
              "version_minor": 0
            },
            "text/plain": [
              "                                             |                                             | [  0%]   00:00 ->…"
            ]
          },
          "metadata": {},
          "output_type": "display_data"
        },
        {
          "name": "stdout",
          "output_type": "stream",
          "text": [
            "Report employee.html was generated! NOTEBOOK/COLAB USERS: the web browser MAY not pop up, regardless, the report IS saved in your notebook/colab files.\n"
          ]
        }
      ],
      "source": [
        "import sweetviz as sv\n",
        "report = sv.analyze(df, target_feat='PCOS (Y/N)')\n",
        "report.show_html('employee.html')"
      ]
    },
    {
      "cell_type": "code",
      "execution_count": null,
      "id": "13604abe",
      "metadata": {
        "id": "13604abe"
      },
      "outputs": [],
      "source": [
        ""
      ]
    },
    {
      "cell_type": "code",
      "execution_count": 91,
      "id": "f694e293",
      "metadata": {
        "colab": {
          "base_uri": "https://localhost:8080/",
          "height": 730
        },
        "id": "f694e293",
        "outputId": "da64ba0f-3110-489c-afa3-8193d897ab90"
      },
      "outputs": [
        {
          "output_type": "display_data",
          "data": {
            "text/plain": [
              "<Figure size 576x864 with 2 Axes>"
            ],
            "image/png": "[encoded data removed]"
          },
          "metadata": {
            "needs_background": "light"
          }
        }
      ],
      "source": [
        "#View Feature correlated with PCOS\n",
        "plt.figure(figsize=(8, 12))\n",
        "heatmap = sns.heatmap(df.corr()[['PCOS (Y/N)']].sort_values(by='PCOS (Y/N)', ascending=False), vmin=-1, vmax=1, annot=True, cmap='BrBG')\n",
        "heatmap.set_title('Features Correlating with PCOS', fontdict={'fontsize':18}, pad=16);"
      ]
    },
    {
      "cell_type": "code",
      "execution_count": 92,
      "id": "d93272a0",
      "metadata": {
        "colab": {
          "base_uri": "https://localhost:8080/",
          "height": 673
        },
        "id": "d93272a0",
        "outputId": "bf5e7c5c-c598-4898-b39d-00675c906577"
      },
      "outputs": [
        {
          "output_type": "display_data",
          "data": {
            "text/plain": [
              "<Figure size 720x1080 with 5 Axes>"
            ],
            "image/png": "[encoded data removed]"
          },
          "metadata": {
            "needs_background": "light"
          }
        }
      ],
      "source": [
        "# Plot PCOS vs other features\n",
        "\n",
        "features=['Weight (Kg)', 'Height(Cm) ', 'BMI',\n",
        "       'Blood Group', 'Pulse rate(bpm) ']\n",
        "\n",
        "fig=plt.subplots(figsize=(10,15))\n",
        "for i, j in enumerate(features):\n",
        "    plt.subplot(4, 2, i+1)\n",
        "    plt.subplots_adjust(hspace = 1.0)\n",
        "    sns.countplot(x=j,data = df, hue='PCOS (Y/N)')\n",
        "    plt.xticks(rotation=90)\n",
        "    plt.title(j)"
      ]
    },
    {
      "cell_type": "markdown",
      "id": "c71c2141",
      "metadata": {
        "id": "c71c2141"
      },
      "source": [
        "Split the DataSet"
      ]
    },
    {
      "cell_type": "code",
      "execution_count": 93,
      "id": "bc545be6",
      "metadata": {
        "id": "bc545be6"
      },
      "outputs": [],
      "source": [
        "X = df.drop(['PCOS (Y/N)'], axis=1)\n",
        "y = df['PCOS (Y/N)']"
      ]
    },
    {
      "cell_type": "code",
      "execution_count": 94,
      "id": "c217f67f",
      "metadata": {
        "id": "c217f67f"
      },
      "outputs": [],
      "source": [
        "from sklearn.model_selection import train_test_split\n",
        "X_train, X_test, y_train, y_test = train_test_split(X, y, test_size=0.2, stratify=y, random_state=44)"
      ]
    },
    {
      "cell_type": "code",
      "execution_count": 95,
      "id": "2b6d657e",
      "metadata": {
        "colab": {
          "base_uri": "https://localhost:8080/"
        },
        "id": "2b6d657e",
        "outputId": "8eb1e094-01f4-4789-9845-7c7dac356ac3"
      },
      "outputs": [
        {
          "output_type": "execute_result",
          "data": {
            "text/plain": [
              "array([291, 291])"
            ]
          },
          "metadata": {},
          "execution_count": 95
        }
      ],
      "source": [
        "# Handling Imbalance Data \n",
        "from imblearn.over_sampling import RandomOverSampler\n",
        "ros = RandomOverSampler(sampling_strategy='minority', random_state=1)\n",
        "\n",
        "X_train_ros, y_train_ros = ros.fit_resample(X_train, y_train)\n",
        "np.bincount(y_train_ros)"
      ]
    },
    {
      "cell_type": "code",
      "execution_count": 96,
      "id": "ef1ff09e",
      "metadata": {
        "colab": {
          "base_uri": "https://localhost:8080/"
        },
        "id": "ef1ff09e",
        "outputId": "65a74019-f8c1-4ed8-e874-dde5b28e965d"
      },
      "outputs": [
        {
          "output_type": "execute_result",
          "data": {
            "text/plain": [
              "0.0    291\n",
              "1.0    291\n",
              "Name: PCOS (Y/N), dtype: int64"
            ]
          },
          "metadata": {},
          "execution_count": 96
        }
      ],
      "source": [
        "# Check the target value after resampling on imbalance data\n",
        "y_train_ros.value_counts()\n"
      ]
    },
    {
      "cell_type": "markdown",
      "id": "af5929e6",
      "metadata": {
        "id": "af5929e6"
      },
      "source": [
        "# Model & Evaluation"
      ]
    },
    {
      "cell_type": "markdown",
      "id": "aae6b89e",
      "metadata": {
        "id": "aae6b89e"
      },
      "source": [
        "Logistic Regression"
      ]
    },
    {
      "cell_type": "code",
      "execution_count": 97,
      "id": "6aef4b61",
      "metadata": {
        "colab": {
          "base_uri": "https://localhost:8080/"
        },
        "id": "6aef4b61",
        "outputId": "0e25b022-9cfe-4f3a-87c3-4eb3d1927b52"
      },
      "outputs": [
        {
          "output_type": "execute_result",
          "data": {
            "text/plain": [
              "LogisticRegression()"
            ]
          },
          "metadata": {},
          "execution_count": 97
        }
      ],
      "source": [
        "from sklearn.linear_model import LogisticRegression\n",
        "lr = LogisticRegression()\n",
        "# fit the model\n",
        "lr.fit(X_train_ros, y_train_ros)"
      ]
    },
    {
      "cell_type": "code",
      "execution_count": 98,
      "id": "58d6154a",
      "metadata": {
        "colab": {
          "base_uri": "https://localhost:8080/"
        },
        "id": "58d6154a",
        "outputId": "3bc5d2d6-7124-48df-f225-189ed5caf292"
      },
      "outputs": [
        {
          "output_type": "execute_result",
          "data": {
            "text/plain": [
              "array([0., 0., 1., 1., 1., 1., 0., 0., 1., 0., 1., 1., 0., 0., 0., 1., 1.,\n",
              "       0., 0., 0., 0., 1., 0., 1., 1., 0., 0., 0., 0., 1., 0., 1., 0., 0.,\n",
              "       0., 1., 1., 0., 1., 0., 1., 0., 0., 1., 0., 0., 0., 1., 1., 0., 0.,\n",
              "       1., 0., 0., 0., 0., 1., 1., 0., 0., 0., 0., 0., 1., 0., 1., 1., 0.,\n",
              "       1., 0., 1., 0., 1., 0., 1., 0., 0., 1., 0., 0., 1., 0., 0., 0., 0.,\n",
              "       1., 0., 0., 0., 1., 0., 0., 0., 0., 0., 1., 1., 0., 0., 0., 1., 1.,\n",
              "       1., 0., 0., 1., 0., 0., 1.])"
            ]
          },
          "metadata": {},
          "execution_count": 98
        }
      ],
      "source": [
        "# predict labels on X_test\n",
        "y_pred_lr = lr.predict(X_test)\n",
        "y_pred_lr"
      ]
    },
    {
      "cell_type": "code",
      "execution_count": 99,
      "id": "7376e479",
      "metadata": {
        "colab": {
          "base_uri": "https://localhost:8080/"
        },
        "id": "7376e479",
        "outputId": "7595c388-d172-406d-f370-ac15a3db25b3"
      },
      "outputs": [
        {
          "output_type": "execute_result",
          "data": {
            "text/plain": [
              "0.8532110091743119"
            ]
          },
          "metadata": {},
          "execution_count": 99
        }
      ],
      "source": [
        "# accuracy on test set\n",
        "from sklearn.metrics import accuracy_score\n",
        "accuracy_score(y_test, y_pred_lr)"
      ]
    },
    {
      "cell_type": "code",
      "execution_count": 100,
      "id": "34012441",
      "metadata": {
        "colab": {
          "base_uri": "https://localhost:8080/",
          "height": 296
        },
        "id": "34012441",
        "outputId": "f346caa4-3298-4eed-d16b-6a12400a118e"
      },
      "outputs": [
        {
          "output_type": "execute_result",
          "data": {
            "text/plain": [
              "<sklearn.metrics._plot.roc_curve.RocCurveDisplay at 0x7f2f89a5f290>"
            ]
          },
          "metadata": {},
          "execution_count": 100
        },
        {
          "output_type": "display_data",
          "data": {
            "text/plain": [
              "<Figure size 432x288 with 1 Axes>"
            ],
            "image/png": "[encoded data removed]"
          },
          "metadata": {
            "needs_background": "light"
          }
        }
      ],
      "source": [
        "# AUC plot\n",
        "from sklearn.metrics import plot_roc_curve\n",
        "plot_roc_curve(lr, X_test, y_test)"
      ]
    },
    {
      "cell_type": "code",
      "execution_count": 102,
      "id": "3893f2f6",
      "metadata": {
        "colab": {
          "base_uri": "https://localhost:8080/"
        },
        "id": "3893f2f6",
        "outputId": "20abd10a-eec2-41df-821f-53d0dcf67e42"
      },
      "outputs": [
        {
          "output_type": "stream",
          "name": "stdout",
          "text": [
            "[[62 11]\n",
            " [ 5 31]]\n"
          ]
        }
      ],
      "source": [
        "# confusion matrix\n",
        "from sklearn.metrics import confusion_matrix\n",
        "print(confusion_matrix(y_test, y_pred_lr))"
      ]
    },
    {
      "cell_type": "code",
      "execution_count": 103,
      "id": "89d32db0",
      "metadata": {
        "colab": {
          "base_uri": "https://localhost:8080/"
        },
        "id": "89d32db0",
        "outputId": "46b7dec6-dbb3-46bc-df11-492d9ad657fc"
      },
      "outputs": [
        {
          "output_type": "stream",
          "name": "stdout",
          "text": [
            "              precision    recall  f1-score   support\n",
            "\n",
            "     PCOS No       0.93      0.85      0.89        73\n",
            "    PCOS yes       0.74      0.86      0.79        36\n",
            "\n",
            "    accuracy                           0.85       109\n",
            "   macro avg       0.83      0.86      0.84       109\n",
            "weighted avg       0.86      0.85      0.86       109\n",
            "\n"
          ]
        }
      ],
      "source": [
        "# classification report\n",
        "from sklearn.metrics import classification_report\n",
        "print(classification_report(y_test, y_pred_lr,target_names=['PCOS No', 'PCOS yes']))"
      ]
    },
    {
      "cell_type": "markdown",
      "id": "c06a3531",
      "metadata": {
        "id": "c06a3531"
      },
      "source": [
        "Decision Trees"
      ]
    },
    {
      "cell_type": "code",
      "source": [
        "from sklearn.tree import DecisionTreeClassifier\n",
        "\n",
        "\n",
        "\n",
        "clf = DecisionTreeClassifier(random_state=42, criterion=\"entropy\",\n",
        "                             min_samples_split=10, min_samples_leaf=10, max_depth=3, max_leaf_nodes=5)\n",
        "clf.fit(X_train_ros, y_train_ros)\n",
        "\n",
        "y_pred_dt = clf.predict(X_test)"
      ],
      "metadata": {
        "id": "5TjJu5T5Z7Y6"
      },
      "id": "5TjJu5T5Z7Y6",
      "execution_count": 104,
      "outputs": []
    },
    {
      "cell_type": "code",
      "execution_count": 128,
      "id": "89f017a6",
      "metadata": {
        "id": "89f017a6"
      },
      "outputs": [],
      "source": [
        ""
      ]
    },
    {
      "cell_type": "code",
      "execution_count": 105,
      "id": "1ac3d900",
      "metadata": {
        "colab": {
          "base_uri": "https://localhost:8080/"
        },
        "id": "1ac3d900",
        "outputId": "71bf0d60-c57a-4677-c645-f07dd8736d83"
      },
      "outputs": [
        {
          "output_type": "stream",
          "name": "stdout",
          "text": [
            "              precision    recall  f1-score   support\n",
            "\n",
            "     PCOS No       0.92      0.74      0.82        73\n",
            "    PCOS yes       0.62      0.86      0.72        36\n",
            "\n",
            "    accuracy                           0.78       109\n",
            "   macro avg       0.77      0.80      0.77       109\n",
            "weighted avg       0.82      0.78      0.79       109\n",
            "\n"
          ]
        }
      ],
      "source": [
        "# classification report\n",
        "from sklearn.metrics import classification_report\n",
        "print(classification_report(y_test, y_pred_dt,target_names=['PCOS No', 'PCOS yes']))"
      ]
    },
    {
      "cell_type": "code",
      "execution_count": 106,
      "id": "54da1eff",
      "metadata": {
        "colab": {
          "base_uri": "https://localhost:8080/"
        },
        "id": "54da1eff",
        "outputId": "0308a3d0-6c59-4aea-fc65-a63eaf198245"
      },
      "outputs": [
        {
          "output_type": "stream",
          "name": "stdout",
          "text": [
            "Accuracy = 0.78\n",
            "Kappa = 0.55\n",
            "F1 Score = 0.72\n",
            "Log Loss = 7.61\n"
          ]
        }
      ],
      "source": [
        "from sklearn.metrics import accuracy_score, cohen_kappa_score, f1_score, log_loss\n",
        "\n",
        "print(\"Accuracy = {:.2f}\".format(accuracy_score(y_test, y_pred_dt)))\n",
        "print(\"Kappa = {:.2f}\".format(cohen_kappa_score(y_test, y_pred_dt)))\n",
        "print(\"F1 Score = {:.2f}\".format(f1_score(y_test, y_pred_dt)))\n",
        "print(\"Log Loss = {:.2f}\".format(log_loss(y_test, y_pred_dt)))"
      ]
    },
    {
      "cell_type": "code",
      "execution_count": 107,
      "id": "4b6eb9c2",
      "metadata": {
        "colab": {
          "base_uri": "https://localhost:8080/",
          "height": 296
        },
        "id": "4b6eb9c2",
        "outputId": "699ec0ce-c26a-4c9b-be7c-0d7ceac61951"
      },
      "outputs": [
        {
          "output_type": "execute_result",
          "data": {
            "text/plain": [
              "<sklearn.metrics._plot.roc_curve.RocCurveDisplay at 0x7f2f89501310>"
            ]
          },
          "metadata": {},
          "execution_count": 107
        },
        {
          "output_type": "display_data",
          "data": {
            "text/plain": [
              "<Figure size 432x288 with 1 Axes>"
            ],
            "image/png": "[encoded data removed]"
          },
          "metadata": {
            "needs_background": "light"
          }
        }
      ],
      "source": [
        "# AUC plot\n",
        "from sklearn.metrics import plot_roc_curve\n",
        "plot_roc_curve(clf, X_test, y_test)"
      ]
    },
    {
      "cell_type": "markdown",
      "id": "7952b1aa",
      "metadata": {
        "id": "7952b1aa"
      },
      "source": [
        "Random Forest"
      ]
    },
    {
      "cell_type": "code",
      "execution_count": 108,
      "id": "b6af97af",
      "metadata": {
        "id": "b6af97af"
      },
      "outputs": [],
      "source": [
        "from sklearn.ensemble import RandomForestClassifier\n",
        "\n",
        "clf_rf = RandomForestClassifier(random_state=42,n_estimators = 100)\n",
        "\n",
        "clf_rf.fit(X_train_ros, y_train_ros)\n",
        "\n",
        "y_pred_rf = clf.predict(X_test)"
      ]
    },
    {
      "cell_type": "code",
      "execution_count": 109,
      "id": "d076db24",
      "metadata": {
        "colab": {
          "base_uri": "https://localhost:8080/"
        },
        "id": "d076db24",
        "outputId": "72efbf48-7021-44a0-b865-6c15a38f4e8f"
      },
      "outputs": [
        {
          "output_type": "stream",
          "name": "stdout",
          "text": [
            "              precision    recall  f1-score   support\n",
            "\n",
            "     PCOS No       0.92      0.74      0.82        73\n",
            "    PCOS yes       0.62      0.86      0.72        36\n",
            "\n",
            "    accuracy                           0.78       109\n",
            "   macro avg       0.77      0.80      0.77       109\n",
            "weighted avg       0.82      0.78      0.79       109\n",
            "\n"
          ]
        }
      ],
      "source": [
        "# classification report\n",
        "from sklearn.metrics import classification_report\n",
        "print(classification_report(y_test, y_pred_rf,target_names=['PCOS No', 'PCOS yes']))"
      ]
    },
    {
      "cell_type": "code",
      "execution_count": 110,
      "id": "c62da688",
      "metadata": {
        "colab": {
          "base_uri": "https://localhost:8080/",
          "height": 296
        },
        "id": "c62da688",
        "outputId": "10de4f46-aa44-4d27-ae21-d3fbc3c1833c"
      },
      "outputs": [
        {
          "output_type": "execute_result",
          "data": {
            "text/plain": [
              "<sklearn.metrics._plot.roc_curve.RocCurveDisplay at 0x7f2f8949dfd0>"
            ]
          },
          "metadata": {},
          "execution_count": 110
        },
        {
          "output_type": "display_data",
          "data": {
            "text/plain": [
              "<Figure size 432x288 with 1 Axes>"
            ],
            "image/png": "[encoded data removed]"
          },
          "metadata": {
            "needs_background": "light"
          }
        }
      ],
      "source": [
        "# AUC plot\n",
        "from sklearn.metrics import plot_roc_curve\n",
        "plot_roc_curve(clf_rf, X_test, y_test)"
      ]
    },
    {
      "cell_type": "markdown",
      "source": [
        "Naive Bayes"
      ],
      "metadata": {
        "id": "FXN0KDwHdbAS"
      },
      "id": "FXN0KDwHdbAS"
    },
    {
      "cell_type": "code",
      "source": [
        "from sklearn.naive_bayes import GaussianNB\n",
        "gnb = GaussianNB()\n",
        "gnb = gnb.fit(X_train_ros, y_train_ros)\n",
        "\n",
        "y_pred_gnb = gnb.predict(X_test)"
      ],
      "metadata": {
        "id": "hlPjHtrAb0cB"
      },
      "id": "hlPjHtrAb0cB",
      "execution_count": 111,
      "outputs": []
    },
    {
      "cell_type": "code",
      "source": [
        "confusion_matrix(y_test, y_pred_gnb)\n",
        "print(classification_report(y_test, y_pred_gnb))"
      ],
      "metadata": {
        "colab": {
          "base_uri": "https://localhost:8080/"
        },
        "id": "8s2y48LOb0v5",
        "outputId": "e866b25f-9d99-49b0-c7fb-76f3057a51a0"
      },
      "id": "8s2y48LOb0v5",
      "execution_count": 112,
      "outputs": [
        {
          "output_type": "stream",
          "name": "stdout",
          "text": [
            "              precision    recall  f1-score   support\n",
            "\n",
            "         0.0       0.95      0.73      0.82        73\n",
            "         1.0       0.62      0.92      0.74        36\n",
            "\n",
            "    accuracy                           0.79       109\n",
            "   macro avg       0.78      0.82      0.78       109\n",
            "weighted avg       0.84      0.79      0.80       109\n",
            "\n"
          ]
        }
      ]
    },
    {
      "cell_type": "code",
      "source": [
        "print(\"Accuracy = {:.2f}\".format(accuracy_score(y_test, y_pred_gnb)))\n",
        "print(\"Kappa = {:.2f}\".format(cohen_kappa_score(y_test, y_pred_gnb)))\n",
        "print(\"F1 Score = {:.2f}\".format(f1_score(y_test, y_pred_gnb)))\n",
        "print(\"Log Loss = {:.2f}\".format(log_loss(y_test, y_pred_gnb)))"
      ],
      "metadata": {
        "colab": {
          "base_uri": "https://localhost:8080/"
        },
        "id": "yKubryUedWtu",
        "outputId": "30a2e782-999b-45e2-e334-dd602457fc8f"
      },
      "id": "yKubryUedWtu",
      "execution_count": 113,
      "outputs": [
        {
          "output_type": "stream",
          "name": "stdout",
          "text": [
            "Accuracy = 0.79\n",
            "Kappa = 0.57\n",
            "F1 Score = 0.74\n",
            "Log Loss = 7.29\n"
          ]
        }
      ]
    },
    {
      "cell_type": "markdown",
      "source": [
        "Recursive Feature Elimination (Using Wrapper Method)"
      ],
      "metadata": {
        "id": "amqWqTUeckyY"
      },
      "id": "amqWqTUeckyY"
    },
    {
      "cell_type": "code",
      "source": [
        "from sklearn.feature_selection import RFECV, RFE\n",
        "\n",
        "\n",
        "clf = DecisionTreeClassifier(random_state=42)\n",
        "sel = RFE(estimator=clf, n_features_to_select=10)\n",
        "sel = sel.fit(X_train_ros, y_train_ros)\n",
        "\n",
        "X_train_new = sel.transform(X_train_ros)\n",
        "X_test_new = sel.transform(X_test)\n",
        "\n",
        "X_train_new.shape\n",
        "\n",
        "\n"
      ],
      "metadata": {
        "colab": {
          "base_uri": "https://localhost:8080/"
        },
        "id": "mtcLqsp0ZQIX",
        "outputId": "beee9619-94ac-44a1-8cb9-039dc4c8acf3"
      },
      "id": "mtcLqsp0ZQIX",
      "execution_count": 114,
      "outputs": [
        {
          "output_type": "execute_result",
          "data": {
            "text/plain": [
              "(582, 10)"
            ]
          },
          "metadata": {},
          "execution_count": 114
        }
      ]
    },
    {
      "cell_type": "code",
      "source": [
        "from sklearn.tree import DecisionTreeClassifier\n",
        "\n",
        "\n",
        "\n",
        "clf_rfe = DecisionTreeClassifier(random_state=42)\n",
        "clf_rfe.fit(X_train_new, y_train_ros)\n",
        "\n",
        "y_pred_dt_rfe = clf_rfe.predict(X_test_new)"
      ],
      "metadata": {
        "id": "xHsuIRIVaW1L"
      },
      "id": "xHsuIRIVaW1L",
      "execution_count": 115,
      "outputs": []
    },
    {
      "cell_type": "code",
      "source": [
        "# classification report\n",
        "from sklearn.metrics import classification_report\n",
        "print(classification_report(y_test, y_pred_dt_rfe,target_names=['PCOS No', 'PCOS yes']))"
      ],
      "metadata": {
        "colab": {
          "base_uri": "https://localhost:8080/"
        },
        "id": "nQhrNEctbNWy",
        "outputId": "eb94ea47-7016-468e-a6f2-52ea48e8edc7"
      },
      "id": "nQhrNEctbNWy",
      "execution_count": 116,
      "outputs": [
        {
          "output_type": "stream",
          "name": "stdout",
          "text": [
            "              precision    recall  f1-score   support\n",
            "\n",
            "     PCOS No       0.91      0.92      0.91        73\n",
            "    PCOS yes       0.83      0.81      0.82        36\n",
            "\n",
            "    accuracy                           0.88       109\n",
            "   macro avg       0.87      0.86      0.86       109\n",
            "weighted avg       0.88      0.88      0.88       109\n",
            "\n"
          ]
        }
      ]
    },
    {
      "cell_type": "markdown",
      "id": "e3e3f291",
      "metadata": {
        "id": "e3e3f291"
      },
      "source": [
        "# Hyperparameter Tuning"
      ]
    },
    {
      "cell_type": "markdown",
      "id": "20a75b37",
      "metadata": {
        "id": "20a75b37"
      },
      "source": [
        "Grid Search"
      ]
    },
    {
      "cell_type": "code",
      "execution_count": 117,
      "id": "f0f04bcc",
      "metadata": {
        "id": "f0f04bcc"
      },
      "outputs": [],
      "source": [
        "# Helper function to print out the results of hyperparmater tuning in a nice table.\n",
        "\n",
        "def cv_results_to_df(cv_results):\n",
        "    results = pd.DataFrame(list(cv_results['params']))\n",
        "    #results['mean_fit_time'] = cv_results['mean_fit_time']\n",
        "    #results['mean_score_time'] = cv_results['mean_score_time']\n",
        "    #results['mean_train_score'] = cv_results['mean_train_score']\n",
        "    #results['std_train_score'] = cv_results['std_train_score']\n",
        "    results['mean_val_score'] = cv_results['mean_test_score']\n",
        "    #results['std_val_score'] = cv_results['std_test_score']\n",
        "    results['rank_val_score'] = cv_results['rank_test_score']\n",
        "\n",
        "    results = results.sort_values(['mean_val_score'], ascending=False)\n",
        "    return results"
      ]
    },
    {
      "cell_type": "code",
      "execution_count": 118,
      "id": "a0008fc4",
      "metadata": {
        "colab": {
          "base_uri": "https://localhost:8080/"
        },
        "id": "a0008fc4",
        "outputId": "a29eebf6-1298-450f-b2ca-b601dad3d097"
      },
      "outputs": [
        {
          "output_type": "stream",
          "name": "stdout",
          "text": [
            "Fitting 10 folds for each of 384 candidates, totalling 3840 fits\n"
          ]
        }
      ],
      "source": [
        "from sklearn.model_selection import GridSearchCV\n",
        "\n",
        "clf = DecisionTreeClassifier(random_state=42)\n",
        "\n",
        "params = {'criterion': ('gini', 'entropy'), \n",
        "          'splitter': ('best', 'random'), \n",
        "          'class_weight': ('balanced', None), \n",
        "          'max_depth': [2, 5, 10, 20], \n",
        "          'min_samples_leaf': [1, 5, 10],\n",
        "          'max_features':[0.25, 0.5, 0.75, 1.0]}\n",
        "\n",
        "search = GridSearchCV(clf, params, scoring='f1_macro', cv=10, verbose=1)\n",
        "search = search.fit(X_train_new, y_train_ros)"
      ]
    },
    {
      "cell_type": "code",
      "execution_count": 119,
      "id": "81c072c9",
      "metadata": {
        "colab": {
          "base_uri": "https://localhost:8080/"
        },
        "id": "81c072c9",
        "outputId": "65d6c365-ca62-4fa4-9d2d-20f7a809b238"
      },
      "outputs": [
        {
          "output_type": "stream",
          "name": "stdout",
          "text": [
            "              precision    recall  f1-score   support\n",
            "\n",
            "         0.0       0.93      0.90      0.92        73\n",
            "         1.0       0.82      0.86      0.84        36\n",
            "\n",
            "    accuracy                           0.89       109\n",
            "   macro avg       0.87      0.88      0.88       109\n",
            "weighted avg       0.89      0.89      0.89       109\n",
            "\n"
          ]
        }
      ],
      "source": [
        "y_pred_cv = search.predict(X_test_new)\n",
        "print(classification_report(y_test, y_pred_cv))"
      ]
    },
    {
      "cell_type": "code",
      "execution_count": 120,
      "id": "67f4634d",
      "metadata": {
        "colab": {
          "base_uri": "https://localhost:8080/"
        },
        "id": "67f4634d",
        "outputId": "8c6053bd-7e78-493d-d068-d00dc14b8569"
      },
      "outputs": [
        {
          "output_type": "execute_result",
          "data": {
            "text/plain": [
              "{'class_weight': 'balanced',\n",
              " 'criterion': 'entropy',\n",
              " 'max_depth': 10,\n",
              " 'max_features': 1.0,\n",
              " 'min_samples_leaf': 1,\n",
              " 'splitter': 'best'}"
            ]
          },
          "metadata": {},
          "execution_count": 120
        }
      ],
      "source": [
        "search.best_params_"
      ]
    },
    {
      "cell_type": "code",
      "execution_count": 121,
      "id": "27358ccc",
      "metadata": {
        "colab": {
          "base_uri": "https://localhost:8080/",
          "height": 424
        },
        "id": "27358ccc",
        "outputId": "fe8ebcdf-bd6f-4eeb-b791-99be1ec5e9a2"
      },
      "outputs": [
        {
          "output_type": "execute_result",
          "data": {
            "text/plain": [
              "    class_weight criterion  max_depth  max_features  min_samples_leaf  \\\n",
              "186     balanced   entropy         20          1.00                 1   \n",
              "162     balanced   entropy         10          1.00                 1   \n",
              "354         None   entropy         10          1.00                 1   \n",
              "378         None   entropy         20          1.00                 1   \n",
              "271         None      gini         20          0.50                 1   \n",
              "..           ...       ...        ...           ...               ...   \n",
              "173     balanced   entropy         20          0.25                10   \n",
              "193         None      gini          2          0.25                 1   \n",
              "289         None   entropy          2          0.25                 1   \n",
              "291         None   entropy          2          0.25                 5   \n",
              "195         None      gini          2          0.25                 5   \n",
              "\n",
              "    splitter  mean_val_score  rank_val_score  \n",
              "186     best        0.946681               1  \n",
              "162     best        0.946681               1  \n",
              "354     best        0.944992               3  \n",
              "378     best        0.944969               4  \n",
              "271   random        0.941498               5  \n",
              "..       ...             ...             ...  \n",
              "173   random        0.717541             369  \n",
              "193   random        0.716633             381  \n",
              "289   random        0.716633             381  \n",
              "291   random        0.716501             383  \n",
              "195   random        0.716501             383  \n",
              "\n",
              "[384 rows x 8 columns]"
            ],
            "text/html": [
              "\n",
              "  <div id=\"df-a26410e6-8e0b-41e2-bc6f-73442847fedc\">\n",
              "    <div class=\"colab-df-container\">\n",
              "      <div>\n",
              "<style scoped>\n",
              "    .dataframe tbody tr th:only-of-type {\n",
              "        vertical-align: middle;\n",
              "    }\n",
              "\n",
              "    .dataframe tbody tr th {\n",
              "        vertical-align: top;\n",
              "    }\n",
              "\n",
              "    .dataframe thead th {\n",
              "        text-align: right;\n",
              "    }\n",
              "</style>\n",
              "<table border=\"1\" class=\"dataframe\">\n",
              "  <thead>\n",
              "    <tr style=\"text-align: right;\">\n",
              "      <th></th>\n",
              "      <th>class_weight</th>\n",
              "      <th>criterion</th>\n",
              "      <th>max_depth</th>\n",
              "      <th>max_features</th>\n",
              "      <th>min_samples_leaf</th>\n",
              "      <th>splitter</th>\n",
              "      <th>mean_val_score</th>\n",
              "      <th>rank_val_score</th>\n",
              "    </tr>\n",
              "  </thead>\n",
              "  <tbody>\n",
              "    <tr>\n",
              "      <th>186</th>\n",
              "      <td>balanced</td>\n",
              "      <td>entropy</td>\n",
              "      <td>20</td>\n",
              "      <td>1.00</td>\n",
              "      <td>1</td>\n",
              "      <td>best</td>\n",
              "      <td>0.946681</td>\n",
              "      <td>1</td>\n",
              "    </tr>\n",
              "    <tr>\n",
              "      <th>162</th>\n",
              "      <td>balanced</td>\n",
              "      <td>entropy</td>\n",
              "      <td>10</td>\n",
              "      <td>1.00</td>\n",
              "      <td>1</td>\n",
              "      <td>best</td>\n",
              "      <td>0.946681</td>\n",
              "      <td>1</td>\n",
              "    </tr>\n",
              "    <tr>\n",
              "      <th>354</th>\n",
              "      <td>None</td>\n",
              "      <td>entropy</td>\n",
              "      <td>10</td>\n",
              "      <td>1.00</td>\n",
              "      <td>1</td>\n",
              "      <td>best</td>\n",
              "      <td>0.944992</td>\n",
              "      <td>3</td>\n",
              "    </tr>\n",
              "    <tr>\n",
              "      <th>378</th>\n",
              "      <td>None</td>\n",
              "      <td>entropy</td>\n",
              "      <td>20</td>\n",
              "      <td>1.00</td>\n",
              "      <td>1</td>\n",
              "      <td>best</td>\n",
              "      <td>0.944969</td>\n",
              "      <td>4</td>\n",
              "    </tr>\n",
              "    <tr>\n",
              "      <th>271</th>\n",
              "      <td>None</td>\n",
              "      <td>gini</td>\n",
              "      <td>20</td>\n",
              "      <td>0.50</td>\n",
              "      <td>1</td>\n",
              "      <td>random</td>\n",
              "      <td>0.941498</td>\n",
              "      <td>5</td>\n",
              "    </tr>\n",
              "    <tr>\n",
              "      <th>...</th>\n",
              "      <td>...</td>\n",
              "      <td>...</td>\n",
              "      <td>...</td>\n",
              "      <td>...</td>\n",
              "      <td>...</td>\n",
              "      <td>...</td>\n",
              "      <td>...</td>\n",
              "      <td>...</td>\n",
              "    </tr>\n",
              "    <tr>\n",
              "      <th>173</th>\n",
              "      <td>balanced</td>\n",
              "      <td>entropy</td>\n",
              "      <td>20</td>\n",
              "      <td>0.25</td>\n",
              "      <td>10</td>\n",
              "      <td>random</td>\n",
              "      <td>0.717541</td>\n",
              "      <td>369</td>\n",
              "    </tr>\n",
              "    <tr>\n",
              "      <th>193</th>\n",
              "      <td>None</td>\n",
              "      <td>gini</td>\n",
              "      <td>2</td>\n",
              "      <td>0.25</td>\n",
              "      <td>1</td>\n",
              "      <td>random</td>\n",
              "      <td>0.716633</td>\n",
              "      <td>381</td>\n",
              "    </tr>\n",
              "    <tr>\n",
              "      <th>289</th>\n",
              "      <td>None</td>\n",
              "      <td>entropy</td>\n",
              "      <td>2</td>\n",
              "      <td>0.25</td>\n",
              "      <td>1</td>\n",
              "      <td>random</td>\n",
              "      <td>0.716633</td>\n",
              "      <td>381</td>\n",
              "    </tr>\n",
              "    <tr>\n",
              "      <th>291</th>\n",
              "      <td>None</td>\n",
              "      <td>entropy</td>\n",
              "      <td>2</td>\n",
              "      <td>0.25</td>\n",
              "      <td>5</td>\n",
              "      <td>random</td>\n",
              "      <td>0.716501</td>\n",
              "      <td>383</td>\n",
              "    </tr>\n",
              "    <tr>\n",
              "      <th>195</th>\n",
              "      <td>None</td>\n",
              "      <td>gini</td>\n",
              "      <td>2</td>\n",
              "      <td>0.25</td>\n",
              "      <td>5</td>\n",
              "      <td>random</td>\n",
              "      <td>0.716501</td>\n",
              "      <td>383</td>\n",
              "    </tr>\n",
              "  </tbody>\n",
              "</table>\n",
              "<p>384 rows × 8 columns</p>\n",
              "</div>\n",
              "      <button class=\"colab-df-convert\" onclick=\"convertToInteractive('df-a26410e6-8e0b-41e2-bc6f-73442847fedc')\"\n",
              "              title=\"Convert this dataframe to an interactive table.\"\n",
              "              style=\"display:none;\">\n",
              "        \n",
              "  <svg xmlns=\"http://www.w3.org/2000/svg\" height=\"24px\"viewBox=\"0 0 24 24\"\n",
              "       width=\"24px\">\n",
              "    <path d=\"M0 0h24v24H0V0z\" fill=\"none\"/>\n",
              "    <path d=\"M18.56 5.44l.94 2.06.94-2.06 2.06-.94-2.06-.94-.94-2.06-.94 2.06-2.06.94zm-11 1L8.5 8.5l.94-2.06 2.06-.94-2.06-.94L8.5 2.5l-.94 2.06-2.06.94zm10 10l.94 2.06.94-2.06 2.06-.94-2.06-.94-.94-2.06-.94 2.06-2.06.94z\"/><path d=\"M17.41 7.96l-1.37-1.37c-.4-.4-.92-.59-1.43-.59-.52 0-1.04.2-1.43.59L10.3 9.45l-7.72 7.72c-.78.78-.78 2.05 0 2.83L4 21.41c.39.39.9.59 1.41.59.51 0 1.02-.2 1.41-.59l7.78-7.78 2.81-2.81c.8-.78.8-2.07 0-2.86zM5.41 20L4 18.59l7.72-7.72 1.47 1.35L5.41 20z\"/>\n",
              "  </svg>\n",
              "      </button>\n",
              "      \n",
              "  <style>\n",
              "    .colab-df-container {\n",
              "      display:flex;\n",
              "      flex-wrap:wrap;\n",
              "      gap: 12px;\n",
              "    }\n",
              "\n",
              "    .colab-df-convert {\n",
              "      background-color: #E8F0FE;\n",
              "      border: none;\n",
              "      border-radius: 50%;\n",
              "      cursor: pointer;\n",
              "      display: none;\n",
              "      fill: #1967D2;\n",
              "      height: 32px;\n",
              "      padding: 0 0 0 0;\n",
              "      width: 32px;\n",
              "    }\n",
              "\n",
              "    .colab-df-convert:hover {\n",
              "      background-color: #E2EBFA;\n",
              "      box-shadow: 0px 1px 2px rgba(60, 64, 67, 0.3), 0px 1px 3px 1px rgba(60, 64, 67, 0.15);\n",
              "      fill: #174EA6;\n",
              "    }\n",
              "\n",
              "    [theme=dark] .colab-df-convert {\n",
              "      background-color: #3B4455;\n",
              "      fill: #D2E3FC;\n",
              "    }\n",
              "\n",
              "    [theme=dark] .colab-df-convert:hover {\n",
              "      background-color: #434B5C;\n",
              "      box-shadow: 0px 1px 3px 1px rgba(0, 0, 0, 0.15);\n",
              "      filter: drop-shadow(0px 1px 2px rgba(0, 0, 0, 0.3));\n",
              "      fill: #FFFFFF;\n",
              "    }\n",
              "  </style>\n",
              "\n",
              "      <script>\n",
              "        const buttonEl =\n",
              "          document.querySelector('#df-a26410e6-8e0b-41e2-bc6f-73442847fedc button.colab-df-convert');\n",
              "        buttonEl.style.display =\n",
              "          google.colab.kernel.accessAllowed ? 'block' : 'none';\n",
              "\n",
              "        async function convertToInteractive(key) {\n",
              "          const element = document.querySelector('#df-a26410e6-8e0b-41e2-bc6f-73442847fedc');\n",
              "          const dataTable =\n",
              "            await google.colab.kernel.invokeFunction('convertToInteractive',\n",
              "                                                     [key], {});\n",
              "          if (!dataTable) return;\n",
              "\n",
              "          const docLinkHtml = 'Like what you see? Visit the ' +\n",
              "            '<a target=\"_blank\" href=https://colab.research.google.com/notebooks/data_table.ipynb>data table notebook</a>'\n",
              "            + ' to learn more about interactive tables.';\n",
              "          element.innerHTML = '';\n",
              "          dataTable['output_type'] = 'display_data';\n",
              "          await google.colab.output.renderOutput(dataTable, element);\n",
              "          const docLink = document.createElement('div');\n",
              "          docLink.innerHTML = docLinkHtml;\n",
              "          element.appendChild(docLink);\n",
              "        }\n",
              "      </script>\n",
              "    </div>\n",
              "  </div>\n",
              "  "
            ]
          },
          "metadata": {},
          "execution_count": 121
        }
      ],
      "source": [
        "cv_results_to_df(search.cv_results_)"
      ]
    },
    {
      "cell_type": "markdown",
      "source": [
        "Ensemble (Stacking Method)"
      ],
      "metadata": {
        "id": "nttzbtyUlwLq"
      },
      "id": "nttzbtyUlwLq"
    },
    {
      "cell_type": "code",
      "source": [
        "from sklearn.ensemble import StackingClassifier\n",
        "from sklearn.linear_model import LogisticRegression\n",
        "from sklearn.ensemble import GradientBoostingClassifier\n",
        "from sklearn.svm import SVC\n",
        "from sklearn.pipeline import make_pipeline\n",
        "from sklearn.preprocessing import StandardScaler\n",
        "\n",
        "\n",
        "\n",
        "rf = RandomForestClassifier(n_estimators=100,random_state=100)\n",
        "gb = GradientBoostingClassifier(n_estimators=100,random_state=100)\n",
        "svm = make_pipeline(StandardScaler(), SVC(random_state=100))\n",
        "\n",
        "estimators = [('RF', rf),\n",
        "          ('GB', gb),\n",
        "          ('SVM', svm)]\n",
        "\n",
        "Model = StackingClassifier(estimators=estimators, final_estimator=LogisticRegression())\n",
        "\n",
        "Model.fit(X_train_ros,y_train_ros).score(X_test,y_test)"
      ],
      "metadata": {
        "colab": {
          "base_uri": "https://localhost:8080/"
        },
        "id": "SDKedmd5fhBM",
        "outputId": "c72c8456-ac4f-4dda-dffc-73e9baa9c9a3"
      },
      "id": "SDKedmd5fhBM",
      "execution_count": 123,
      "outputs": [
        {
          "output_type": "execute_result",
          "data": {
            "text/plain": [
              "0.8715596330275229"
            ]
          },
          "metadata": {},
          "execution_count": 123
        }
      ]
    },
    {
      "cell_type": "code",
      "source": [
        ""
      ],
      "metadata": {
        "id": "tQqrhhh4fhEF"
      },
      "id": "tQqrhhh4fhEF",
      "execution_count": null,
      "outputs": []
    }
  ],
  "metadata": {
    "kernelspec": {
      "display_name": "project",
      "language": "python",
      "name": "project"
    },
    "language_info": {
      "codemirror_mode": {
        "name": "ipython",
        "version": 3
      },
      "file_extension": ".py",
      "mimetype": "text/x-python",
      "name": "python",
      "nbconvert_exporter": "python",
      "pygments_lexer": "ipython3",
      "version": "3.9.12"
    },
    "colab": {
      "name": "PCOS (Latest updated).ipynb",
      "provenance": []
    }
  },
  "nbformat": 4,
  "nbformat_minor": 5
}